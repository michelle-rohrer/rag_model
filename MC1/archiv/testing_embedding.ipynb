{
 "cells": [
  {
   "cell_type": "markdown",
   "metadata": {},
   "source": [
    "## Embedding - Chroma"
   ]
  },
  {
   "cell_type": "markdown",
   "metadata": {},
   "source": [
    "Dieses Notebook wird verwendet, um die ChromaEmbedding Pipeline zu erstellen und zu testen."
   ]
  },
  {
   "cell_type": "code",
   "execution_count": 8,
   "metadata": {},
   "outputs": [],
   "source": [
    "import pandas as pd\n",
    "import numpy as np\n",
    "import os\n",
    "from langchain_openai import AzureOpenAIEmbeddings\n",
    "from langchain.vectorstores import Chroma\n",
    "from utilities import TextCleaner\n",
    "from credentials import AZURE_OPENAI_API_KEY, AZURE_OPENAI_ENDPOINT\n",
    "from tqdm import tqdm"
   ]
  },
  {
   "cell_type": "markdown",
   "metadata": {},
   "source": [
    "### Daten einlesen"
   ]
  },
  {
   "cell_type": "code",
   "execution_count": 2,
   "metadata": {},
   "outputs": [
    {
     "data": {
      "application/vnd.microsoft.datawrangler.viewer.v0+json": {
       "columns": [
        {
         "name": "index",
         "rawType": "int64",
         "type": "integer"
        },
        {
         "name": "Unnamed: 0",
         "rawType": "int64",
         "type": "integer"
        },
        {
         "name": "title",
         "rawType": "object",
         "type": "string"
        },
        {
         "name": "date",
         "rawType": "object",
         "type": "string"
        },
        {
         "name": "author",
         "rawType": "float64",
         "type": "float"
        },
        {
         "name": "content",
         "rawType": "object",
         "type": "string"
        },
        {
         "name": "domain",
         "rawType": "object",
         "type": "string"
        },
        {
         "name": "url",
         "rawType": "object",
         "type": "string"
        }
       ],
       "conversionMethod": "pd.DataFrame",
       "ref": "e954c640-f5ab-439f-ac6d-d554294ce91a",
       "rows": [
        [
         "0",
         "93320",
         "XPeng Delivered ~100,000 Vehicles In 2021",
         "2022-01-02",
         null,
         "['Chinese automotive startup XPeng has shown one of the most dramatic auto production ramp-ups in history, and the good news is it only produces 100% smart electric vehicles ( EVs). At a mere 7 years of age, and just a few years after launching its first vehicle ( the XPeng G3 went on sales in December 2018), XPeng has wrapped up a year of sales totaling almost 100,000. In 2021, XPeng delivered 98,155 smart EVs, a 263% year-over-year increase.', 'In December, 16,000 vehicles were delivered, a 181% year-over-year increase compared to December 2020. There were 41,751 vehicles delivered in Q4 2021, which was a 222% year-over-year increase.', 'Reinforcing how impressive the 98,155 delivery figure for 2021 is, at the end of the year, XPeng reached just 137,953 cumulative deliveries.', 'All the more impressive, XPeng’ s monthly delivery target is 15,000 vehicles, and December was the second month in a row that was surpassed — and that’ s despite the global automotive chip shortage and other supply chain challenges.', 'In the case of the P7, deliveries were up 102%. GS deliveries were up 75%. The P5 was not on the market one year ago, but its sales did increase 134% month over month.', 'XPeng also noted that its broader charging and sales network in China has been growing “ rapidly. ” It had “ 661 branded supercharging stations across 228 cities and 311 physical retail stores in operation across 121 cities as of the end of November 2021. ”', 'All in all, XPeng’ s growth seems to be rolling out as the company hoped and planned, or even better. It’ s quite an uplifting sight to see another pure EV company scaling up production rapidly and achieving great sales success at a young age. Of course, the reference company need not be named, and we need not compare the two or pretend XPeng should exactly follow Tesla’ s ( whoops) path. However, the point is that we are getting more examples of pure EV companies achieving great successes.', \"Zach is tryin ' to help society help itself one word at a time. He spends most of his time here on CleanTechnica as its director, chief editor, and CEO. Zach is recognized globally as an electric vehicle, solar energy, and energy storage expert. He has presented about cleantech at conferences in India, the UAE, Ukraine, Poland, Germany, the Netherlands, the USA, Canada, and Curaçao. Zach has long-term investments in Tesla [ TSLA ], NIO [ NIO ], Xpeng [ XPEV ], Ford [ F ], ChargePoint [ CHPT ], Amazon [ AMZN ], Piedmont Lithium [ PLL ], Lithium Americas [ LAC ], Albemarle Corporation [ ALB ], Nouveau Monde Graphite [ NMGRF ], Talon Metals [ TLOFF ], Arclight Clean Transition Corp [ ACTC ], and Starbucks [ SBUX ]. But he does not offer ( explicitly or implicitly) investment advice of any sort.\", 'Advertise with CleanTechnica to get your company in front of millions of monthly readers.', 'Rethink Energy has made the prediction that some countries’ entire automotive fleets will be electric within the next decade. Policy changes in various countries...', 'Tesla hits the UK with its strongest ever May, helping lift the plugin electric vehicle market share to 23.1%, up from 18.3% year on...', 'The auto market in Germany saw plugin EVs take 22.9% share in May 2023, down from 25.3% year on year. Full electrics gained share,...', 'Recently, we did a story about the 2023 NADA convention and goat roping in Dallas, where Slate correspondent Alexander Sammon got a chance to...', 'Copyright © 2023 CleanTechnica. The content produced by this site is for entertainment purposes only. Opinions and comments published on this site may not be sanctioned by and do not necessarily represent the views of CleanTechnica, its owners, sponsors, affiliates, or subsidiaries.']",
         "cleantechnica",
         "https://cleantechnica.com/2022/01/02/xpeng-delivered-100000-vehicles-in-2021/"
        ],
        [
         "1",
         "93321",
         "Green Hydrogen: Drop In Bucket Or Big Splash?",
         "2022-01-02",
         null,
         "['Sinopec has laid plans to build the largest green hydrogen production facility in the world, but interest in fossil-sourced hydrogen continues apace.', 'Skepticism abounds over the green hydrogen field, and yet leading players on the global energy stage seem willing to give it a whirl. In the latest development, Sinopec has lent its financial muscle to the field. The company plans to have the proposed “ Sinopec Xinjiang Kuqa Green Hydrogen Pilot Project ” up and running by 2023, which will add 20,000 tons of annual output to the small but growing supply of sustainable hydrogen in the global economy.', 'In past years, the green hydrogen field has run afoul of the greenwashing matrix. Hydrogen itself is not “ green. ” Hydrogen can serve as a zero emission fuel, whether combusted or used in a fuel cell. However, the primary source of hydrogen today is natural gas, and to some extent coal.', 'The “ green ” in green hydrogen has only appeared in recent years, concurrent with the falling cost of wind and solar energy. The availability of low cost renewable energy has made it possible to lower the carbon footprint of electrolyzer systems, which deploy an electrical current to push hydrogen gas out of water.', 'So, now the issue is not so much whether or not green hydrogen is a real thing. The question is to what extent the interest in green hydrogen will pump up the overall demand for hydrogen too quickly, enabling the supply of fossil sourced hydrogen in the global economy to go up instead of down.', 'That brings us to Sinopec, aka China Petroleum & Chemical Corporation, the well-known Bejing-based energy firm. Though best known for its fossil energy interests, Sinopec has been dabbling in biofuels and it looks like sustainable hydrogen is next in line.', 'Sinopec has a lot of catching up to do if it wants to transition out of fossil-sourced hydrogen. The company currently states its hydrogen output at a total of 3.5 million tons annually. Meanwhile, its newly launched “ Sinopec Xinjiang Kuqa Green Hydrogen Pilot Project ” will only produce 20,000 tons annually.', 'That gap could grow instead of shrinking, if Sinopec follows through on a $ 4.6 billion pivot into natural gas and hydrogen. Also, according to the China Hydrogen Energy Alliance, the annual demand for hydrogen in China alone could grow into the range of 60 million tons annually by 2050.', 'Still, at 20,000 tons the new hydrogen project is nothing to sneeze at. It will be among the biggest such facilities in the world when it commences operations in June 2023, if not the biggest.', 'Actually, it could be the very biggest, by far. The firm Air Liquide has a large-scale electrolyzer facility up and running in Canada, but the output barely scrapes 3,300 tons annually ( 8.2 tonnes daily). Shell has an electrolyzer project under way in Germany that will produce 1,300 tons of hydrogen annually. If you know of any other big projects in the works, drop us a note in the comment thread.', 'If Sinopec calls it quits after a single 20,000-ton project, that would be the end of the story. However, the company has put out signals that the new facility is intended to provide a model for others to follow.', 'One signal is the scale of the company’ s commitment to the sustainable hydrogen infrastructure.', '“ As part of the project, Sinopec will build a new photovoltaic power station with an installed capacity of 300MW and annual power generation of 618 million kilowatt-hours, an electrolyzed water hydrogen plant with an annual capacity of 20,000 tons, a spherical hydrogen storage tank with hydrogen storage capacity of 210,000 standard cubic meters, and hydrogen transmission pipelines with a capacity of 28,000 standard cubic meters per hour ( including supporting power transmission and transformation facilities), ” the company explains.', 'Another hint is the existence of a buyer. According to Sinopec, its Tahe Refining & Chemical division will use green hydrogen from the new facility to decarbonize its hydrogen production.', 'That brings up an interesting point about green hydrogen, which is that refinery operations account for a leading source of demand for hydrogen. So, all things being equal, green hydrogen would be deployed to enable the continued production of petroleum-based fuels and chemicals.', 'Well, that’ s the way the cookie crumbles. If the Tahe deal comes through, it would follow a broader trend of deploying renewable energy to in tandem with fossil sources. Sinopec, for example, is among the energy firms that use solar panels to power their oil fields. Coal mines and other extractive sites are also increasingly turning to renewables.', 'Sinopec also recently signed an agreement with Jinko Solar to build solar canopies at 18 Sinopec filling stations in China. That is just one of Sinopec’ s growing suite of solarization projects, and therein lies another hint about the company’ s green hydrogen intentions.', 'Last week Jinko put out the word that it has inked a major solar power deal with Sinopec Star, which plans to build “ several industrial-scale solar-powered, emission-free, hydrogen production facilities across China. ”', 'The facilities will “ serve as proof of concept for the cost-competitive production of hydrogen from advanced solar technology, ” Jinko added.', 'Earlier in December, Sinopec President Ma Yongsheng also seemed to mark a sharp pivot in Sinopec’ s plans for growth in the hydrogen economy.', 'In recent years, Sinopec and China have been targeting conventional, fossil-sourced hydrogen as a “ clean ” fuel but, during a conference in Bejing, Ma Yongsheng indicated a shift in emphasis for Sinopec, towards so-called “ blue ” hydrogen as well as green hydrogen.', 'In terms of keeping fossilized carbon sequestered underground where it belongs, “ blue ” hydrogen is a public relations gimmick. It refers to producing hydrogen from fossil sources, in combination with a carbon capture system.', 'The green hydrogen track has more potential to make a planet-saving impact, partly because legacy engineering firms are beginning to fall all over themselves in pursuit of new business in the green hydrogen field.', 'Mitsubishi, for example, has introduced a new gas turbine designed to transition into green hydrogen as supplies become available, and Cummins is scaling up its hydrogen electrolyzer technology with a $ 5 million assist from the US Department of Energy. Not to be outdone, GE has embarked on a pilot project that could eventually convert the 1,100 megawatt Cricket Valley gas power plant in upstate New York to run on green hydrogen.', 'The green hydrogen supply chain is also maturing. One good example is Siemens Gamesa, which has hooked up with the thermoplastics firm Strohm to supply piping for a green hydrogen mashup with offshore wind farms.', 'Photo: Sustainable hydrogen site prepping for construction ( courtesy of Sinopec).', 'Tina specializes in military and corporate sustainability, advanced technology, emerging materials, biofuels, and water and wastewater issues. Views expressed are her own. Follow her on Twitter @ TinaMCasey and Spoutible.', 'Advertise with CleanTechnica to get your company in front of millions of monthly readers.', \"Toyota's look-ahead to 2026 has a lot to do with hydrogen – but if you're thinking fuel cells, you're thinking wrong.\", 'A new cargo ship will use 100% wind energy to ferry goods between Europe and the US, without the carbon baggage.', 'The US state of North Dakota is among those not waiting around for the green hydrogen grass to grow under their feet.', 'Rethink Energy has made the prediction that some countries’ entire automotive fleets will be electric within the next decade. Policy changes in various countries...', 'Copyright © 2023 CleanTechnica. The content produced by this site is for entertainment purposes only. Opinions and comments published on this site may not be sanctioned by and do not necessarily represent the views of CleanTechnica, its owners, sponsors, affiliates, or subsidiaries.']",
         "cleantechnica",
         "https://cleantechnica.com/2022/01/02/its-a-green-hydrogen-drop-in-the-bucket-but-it-could-still-make-a-splash/"
        ],
        [
         "2",
         "98159",
         "World’ s largest floating PV plant goes online in China – pv magazine International",
         "2022-01-03",
         null,
         "['Huaneng Power International has switched on a 320 MW floating PV array in China’ s Shandong province. It deployed the plant in two phases on a reservoir near its 2.65 GW Dezhou thermal power station.', \"Huaneng Power International ( HPI) has completed the world's largest floating PV project – a 320 MW facility in Dezhou, in China's Shandong province.\", \"It deployed the floating array on a reservoir near Huaneng Power's 2.65 GW Dezhou thermal power station.\", 'It built the solar plant in two phases with capacities of 200 MW and 120 MW, respectively. The first phase, which included the deployment of 8 MWh of storage capacity, was completed in 2020, while the second phase was finished between mid-September and the end of December. The facility is expected to generate around 550 million kWh of electricity per year, the company said, without disclosing additional technical details.', \"In mid-December, the company also commissioned a 130 MW solar plant in an intertidal zone near Yuhuan, Zhejiang province. It described the Qinggang Photovoltaic Power Station as China's first intertidal PV project, with 242,000 solar modules deployed across an area spanning 1.2 million square meters.\", 'The project is expected to produce around 150 million kWh per year. It will be resistant to typhoons and water corrosion, among other harsh environmental factors, said the company.', 'Huaneng Power also plans to build a 2 GW solar plant in Fengcheng, Jiangxi province. The experimental array will include floating PV, agrivoltaics and solar parks on fishponds. The first 320 MW unit will be completed this year, with the rest of the capacity to be installed by 2026.', 'This content is protected by copyright and may not be reused. If you want to cooperate with us and would like to reuse some of our content, please contact: editors @ pv-magazine.com.', 'Woah! It definitely takes a lot of energy to charge but surely would produce more than it.', 'This move highlights the ongoing efforts to diversify energy generation and transition towards a more sustainable future.', 'This article discusses China’ s new record-breaking floating solar farm, highlighting impressive clean energy scaling. While not directly addressed, AI tools like ChatGPT could someday help analyze renewable energy data to identify new efficiency opportunities. However, as noted, human expertise remains essential for engineering and implementation. An encouraging milestone for innovative large-scale solar projects.', 'Please be mindful of our community standards.', 'Your email address will not be published. Required fields are marked *', 'Save my name, email, and website in this browser for the next time I comment.', 'By submitting this form you agree to pv magazine using your data for the purposes of publishing your comment.', 'Your personal data will only be disclosed or otherwise transmitted to third parties for the purposes of spam filtering or if this is necessary for technical maintenance of the website. Any other transfer to third parties will not take place unless this is justified on the basis of applicable data protection regulations or if pv magazine is legally obliged to do so.', 'You may revoke this consent at any time with effect for the future, in which case your personal data will be deleted immediately. Otherwise, your data will be deleted if pv magazine has processed your request or the purpose of data storage is fulfilled.', 'Further information on data privacy can be found in our Data Protection Policy.', 'This website uses cookies to anonymously count visitor numbers. View our privacy policy. ×', \"The cookie settings on this website are set to `` allow cookies '' to give you the best browsing experience possible. If you continue to use this website without changing your cookie settings or you click `` Accept '' below then you are consenting to this.\"]",
         "pv-magazine",
         "https://www.pv-magazine.com/2022/01/03/worlds-largest-floating-pv-plant-goes-online-in-china/"
        ],
        [
         "3",
         "98158",
         "Iran wants to deploy 10 GW of renewables over the next four years – pv magazine International",
         "2022-01-03",
         null,
         "['According to the Iranian authorities, there are currently more than 80GW of renewable energy projects that were submitted by private investors for review.', 'Iran had around 414MW of installed solar power at the end of 2020.', 'The Iranian Energy Ministry announced, last week, a plan to add another 10GW of renewable energy capacity over the next four years as part of an overall strategy to deploy 30GW of power generation capacity.', 'On Sunday, the ministry and the Renewable Energy and Energy Efficiency Organization ( SATBA) signed a memorandum of understanding with unspecified private investors to implement the plan and announced their intention to allocate around IRR30 trillion ( $ 71.4 million) in the next budget law to move forward with the first projects.', 'According to SATBA, there are currently more than 80GW of renewable energy projects that have been submitted by private investors for review.', 'Iran has an installed renewable energy power generation capacity of around 900MW, of which about 414MW is represented by solar installations. According to the International Renewable Energy Agency, the country installed around 50MW of new PV power in 2020 and around 90MW in 2019.', 'Despite a feed-in-tariff scheme for large scale PV and a net metering mechanism for rooftop PV, Iran’ s solar energy development has remained below expectations since the real market inception, in 2016. Solar developers active in the country had to deal with two main issues: difficult access to financing and re-imposed sanctions by former U.S. President Donald Trump.', \"Last week, however, Tehran-headquartered company Mana Energy Pak commissioned the country's first solar cell factory. The 150MW facility is located close to the city of Khomeini in western Iran. The company’ s website states that it has, additionally, purchased a factory able to produce 1.2GW of multi- and monocrystalline wafers per year, without mentioning the location of this factory. It also states that it has operated a 250MW production line for PV modules at the site near Khomeini since early 2020. According to SATBA, further phases already under construction will increase the factory’ s PV module capacity to 1.5GW by the end of 2023.\", 'This content is protected by copyright and may not be reused. If you want to cooperate with us and would like to reuse some of our content, please contact: editors @ pv-magazine.com.', 'Please be mindful of our community standards.', 'Your email address will not be published. Required fields are marked *', 'Save my name, email, and website in this browser for the next time I comment.', 'By submitting this form you agree to pv magazine using your data for the purposes of publishing your comment.', 'Your personal data will only be disclosed or otherwise transmitted to third parties for the purposes of spam filtering or if this is necessary for technical maintenance of the website. Any other transfer to third parties will not take place unless this is justified on the basis of applicable data protection regulations or if pv magazine is legally obliged to do so.', 'You may revoke this consent at any time with effect for the future, in which case your personal data will be deleted immediately. Otherwise, your data will be deleted if pv magazine has processed your request or the purpose of data storage is fulfilled.', 'Further information on data privacy can be found in our Data Protection Policy.', 'This website uses cookies to anonymously count visitor numbers. View our privacy policy. ×', \"The cookie settings on this website are set to `` allow cookies '' to give you the best browsing experience possible. If you continue to use this website without changing your cookie settings or you click `` Accept '' below then you are consenting to this.\"]",
         "pv-magazine",
         "https://www.pv-magazine.com/2022/01/03/iran-wants-to-deploy-10-gw-of-renewables-over-the-next-four-years/#comments"
        ],
        [
         "4",
         "31128",
         "Eastern Interconnection Power Grid Said ‘ Being Challenged in New Ways’",
         "2022-01-03",
         null,
         "['Sign in to get the best natural gas news and data. Follow the topics you want and receive the daily emails.', 'Your email address *', 'Your password *', 'Remember me Continue', 'Reset password', 'Featured Content', 'News & Data Services', 'Client Support', 'Daily GPI', 'Infrastructure | NGI All News Access', 'Electric transmission planners with the Eastern Interconnection, a major power grid serving two-thirds of the United States and Canada, recently gave a favorable review in their assessment of how well regional plans mesh to maintain systemwide reliability.', 'However, the planners, known as the Eastern Interconnection Planning Collaborative ( EIPC), added a cautionary note.', 'EIPC’ s Zach Smith, executive committee chairman, said planners concluded that “ the Eastern Interconnection remains strong, and that individual and collective transmission planning activities have yielded a system that is reliable and well-coordinated on both a regional and interconnection-wide basis. ”', 'Smith issued a word of warning, though.', '“ Nevertheless, looking forward, the grid is being challenged in new ways as the profile of the generation fleet and customer demands are rapidly changing, ” he said. “ Continued vigilance and effective use of planning tools and coordination with policymakers are essential for ensuring that today’ s strong and reliable grid remains so in the future. ”', 'The “ 2021 EIPC State of the Grid ” report stated that “ regional transmission plans, including generator retirements and additions, require continued study and interconnection-wide coordination ” to prevent various regional plans within the grid from conflicting.', 'EIPC member PJM Interconnection recently noted that it has been working closely with electric generators within its region to gauge their fuel supply situation this winter. ISO New England, another segment of the Eastern Interconnection, has cited high liquefied natural gas prices and pipeline constraints as challenges its member utilities will grapple with this winter.', 'The EIPC report outlines planning evaluations and initiatives undertaken to test the bulk power system’ s resiliency, EIPC said. The coalition noted the collaboration has yielded case analyses, a production costing simulation database, frequency response analysis, electric-gas coordination, modeling coordination, and various activities to support state and federal policymakers and agencies.', 'EIPC comprises 19 major transmission planning coordinators that plan and operate the bulk power grid throughout the Eastern Interconnection.', '“ The report serves as an informational tool for policy makers and regulators, ” said Smith. “ It provides objective information from those directly charged with the responsibility to plan a reliable transmission grid in the Eastern Interconnection. ”', 'Smith added, “ It addresses the present and future state of transmission planning for bulk power grid reliability and the interregional coordination of those efforts.', '“ Given the size and the significant diversity within the interconnection, the insights among the planning coordinators provide a robust view on planning the transmission grid of the future. ”', '© 2021 Natural Gas Intelligence. All rights reserved.', 'ISSN © 1532-1231 | ISSN © 2577-9877 |', 'Related topics: power generation', '', '@ MVeazey NGI', 'email matthew.veazey @ naturalgasintel.com', 'NGI’ s Daily NatGas Price Tracker', 'Daily Product Suite', 'Listen to NGI’ s ‘ Hub and Flow’', 'Daily Gas Price Index', 'Download latest PDF Edition', 'Daily GPI: Trending News', 'Markets', 'Natural gas prices hovered in a narrow range of modest gains and losses early Monday before creeping upward and ultimately finishing comfortably in positive territory, as traders assessed a bearish tilt in the weather outlook against strong demand prospects for U.S. liquefied natural gas ( LNG) exports. The February Nymex gas futures contract settled at $ 3.815, …', 'Markets', 'M & A']",
         "naturalgasintel",
         "https://www.naturalgasintel.com/eastern-interconnection-power-grid-said-being-challenged-in-new-ways/"
        ]
       ],
       "shape": {
        "columns": 7,
        "rows": 5
       }
      },
      "text/html": [
       "<div>\n",
       "<style scoped>\n",
       "    .dataframe tbody tr th:only-of-type {\n",
       "        vertical-align: middle;\n",
       "    }\n",
       "\n",
       "    .dataframe tbody tr th {\n",
       "        vertical-align: top;\n",
       "    }\n",
       "\n",
       "    .dataframe thead th {\n",
       "        text-align: right;\n",
       "    }\n",
       "</style>\n",
       "<table border=\"1\" class=\"dataframe\">\n",
       "  <thead>\n",
       "    <tr style=\"text-align: right;\">\n",
       "      <th></th>\n",
       "      <th>Unnamed: 0</th>\n",
       "      <th>title</th>\n",
       "      <th>date</th>\n",
       "      <th>author</th>\n",
       "      <th>content</th>\n",
       "      <th>domain</th>\n",
       "      <th>url</th>\n",
       "    </tr>\n",
       "  </thead>\n",
       "  <tbody>\n",
       "    <tr>\n",
       "      <th>0</th>\n",
       "      <td>93320</td>\n",
       "      <td>XPeng Delivered ~100,000 Vehicles In 2021</td>\n",
       "      <td>2022-01-02</td>\n",
       "      <td>NaN</td>\n",
       "      <td>['Chinese automotive startup XPeng has shown o...</td>\n",
       "      <td>cleantechnica</td>\n",
       "      <td>https://cleantechnica.com/2022/01/02/xpeng-del...</td>\n",
       "    </tr>\n",
       "    <tr>\n",
       "      <th>1</th>\n",
       "      <td>93321</td>\n",
       "      <td>Green Hydrogen: Drop In Bucket Or Big Splash?</td>\n",
       "      <td>2022-01-02</td>\n",
       "      <td>NaN</td>\n",
       "      <td>['Sinopec has laid plans to build the largest ...</td>\n",
       "      <td>cleantechnica</td>\n",
       "      <td>https://cleantechnica.com/2022/01/02/its-a-gre...</td>\n",
       "    </tr>\n",
       "    <tr>\n",
       "      <th>2</th>\n",
       "      <td>98159</td>\n",
       "      <td>World’ s largest floating PV plant goes online...</td>\n",
       "      <td>2022-01-03</td>\n",
       "      <td>NaN</td>\n",
       "      <td>['Huaneng Power International has switched on ...</td>\n",
       "      <td>pv-magazine</td>\n",
       "      <td>https://www.pv-magazine.com/2022/01/03/worlds-...</td>\n",
       "    </tr>\n",
       "    <tr>\n",
       "      <th>3</th>\n",
       "      <td>98158</td>\n",
       "      <td>Iran wants to deploy 10 GW of renewables over ...</td>\n",
       "      <td>2022-01-03</td>\n",
       "      <td>NaN</td>\n",
       "      <td>['According to the Iranian authorities, there ...</td>\n",
       "      <td>pv-magazine</td>\n",
       "      <td>https://www.pv-magazine.com/2022/01/03/iran-wa...</td>\n",
       "    </tr>\n",
       "    <tr>\n",
       "      <th>4</th>\n",
       "      <td>31128</td>\n",
       "      <td>Eastern Interconnection Power Grid Said ‘ Bein...</td>\n",
       "      <td>2022-01-03</td>\n",
       "      <td>NaN</td>\n",
       "      <td>['Sign in to get the best natural gas news and...</td>\n",
       "      <td>naturalgasintel</td>\n",
       "      <td>https://www.naturalgasintel.com/eastern-interc...</td>\n",
       "    </tr>\n",
       "  </tbody>\n",
       "</table>\n",
       "</div>"
      ],
      "text/plain": [
       "   Unnamed: 0                                              title        date  \\\n",
       "0       93320          XPeng Delivered ~100,000 Vehicles In 2021  2022-01-02   \n",
       "1       93321      Green Hydrogen: Drop In Bucket Or Big Splash?  2022-01-02   \n",
       "2       98159  World’ s largest floating PV plant goes online...  2022-01-03   \n",
       "3       98158  Iran wants to deploy 10 GW of renewables over ...  2022-01-03   \n",
       "4       31128  Eastern Interconnection Power Grid Said ‘ Bein...  2022-01-03   \n",
       "\n",
       "   author                                            content           domain  \\\n",
       "0     NaN  ['Chinese automotive startup XPeng has shown o...    cleantechnica   \n",
       "1     NaN  ['Sinopec has laid plans to build the largest ...    cleantechnica   \n",
       "2     NaN  ['Huaneng Power International has switched on ...      pv-magazine   \n",
       "3     NaN  ['According to the Iranian authorities, there ...      pv-magazine   \n",
       "4     NaN  ['Sign in to get the best natural gas news and...  naturalgasintel   \n",
       "\n",
       "                                                 url  \n",
       "0  https://cleantechnica.com/2022/01/02/xpeng-del...  \n",
       "1  https://cleantechnica.com/2022/01/02/its-a-gre...  \n",
       "2  https://www.pv-magazine.com/2022/01/03/worlds-...  \n",
       "3  https://www.pv-magazine.com/2022/01/03/iran-wa...  \n",
       "4  https://www.naturalgasintel.com/eastern-interc...  "
      ]
     },
     "execution_count": 2,
     "metadata": {},
     "output_type": "execute_result"
    }
   ],
   "source": [
    "path = '/Users/husazwerg/code/gitlab.fhnw.ch/gruppen_arbeit/npr_fs25/MC1/data_mc1/cleantech_media_dataset_v3_2024-10-28.csv'\n",
    "df_train = pd.read_csv(path)\n",
    "\n",
    "df_train.head()"
   ]
  },
  {
   "cell_type": "markdown",
   "metadata": {},
   "source": [
    "### Text Preprocessing"
   ]
  },
  {
   "cell_type": "code",
   "execution_count": 3,
   "metadata": {},
   "outputs": [],
   "source": [
    "# Text preprocessing\n",
    "cleaner = TextCleaner()\n",
    "df_cleaned = cleaner.clean_text_column(df_train, column='content')\n"
   ]
  },
  {
   "cell_type": "markdown",
   "metadata": {},
   "source": [
    "Wichtig ist auch zu wissen, wie viele Tokens wir haben, da vortrainierte Modelle eine maximale Anzahl an Tokens haben. Azure OpenAI hat eine maximale Anzahl von etwa 8200 Tokens."
   ]
  },
  {
   "cell_type": "code",
   "execution_count": null,
   "metadata": {},
   "outputs": [
    {
     "name": "stdout",
     "output_type": "stream",
     "text": [
      "                                              content  word_count  \\\n",
      "6   'BP' s \" long term \" commitment to Scotland is...        1117   \n",
      "9   'Israeli researchers have tested organic PV mo...         601   \n",
      "14  'High wind loads increase structural design co...         497   \n",
      "19  \" More info.\", \"Anthropogenic emissions of car...         495   \n",
      "21  'While the battle between utilities and reside...         285   \n",
      "\n",
      "    estimated_tokens  \n",
      "6             1452.1  \n",
      "9              781.3  \n",
      "14             646.1  \n",
      "19             643.5  \n",
      "21             370.5  \n",
      "📊 Gesamtanzahl geschätzter Tokens: 3,143,657\n"
     ]
    },
    {
     "name": "stderr",
     "output_type": "stream",
     "text": [
      "/var/folders/0l/jk3grg717z34yf9xh85kj0bh0000gn/T/ipykernel_13458/1774651688.py:2: SettingWithCopyWarning: \n",
      "A value is trying to be set on a copy of a slice from a DataFrame.\n",
      "Try using .loc[row_indexer,col_indexer] = value instead\n",
      "\n",
      "See the caveats in the documentation: https://pandas.pydata.org/pandas-docs/stable/user_guide/indexing.html#returning-a-view-versus-a-copy\n",
      "  df_cleaned[\"word_count\"] = df_cleaned[\"content\"].astype(str).apply(lambda x: len(x.split()))\n",
      "/var/folders/0l/jk3grg717z34yf9xh85kj0bh0000gn/T/ipykernel_13458/1774651688.py:5: SettingWithCopyWarning: \n",
      "A value is trying to be set on a copy of a slice from a DataFrame.\n",
      "Try using .loc[row_indexer,col_indexer] = value instead\n",
      "\n",
      "See the caveats in the documentation: https://pandas.pydata.org/pandas-docs/stable/user_guide/indexing.html#returning-a-view-versus-a-copy\n",
      "  df_cleaned[\"estimated_tokens\"] = df_cleaned[\"word_count\"] * 1.3\n"
     ]
    }
   ],
   "source": [
    "# Wörter zählen\n",
    "df_cleaned[\"word_count\"] = df_cleaned[\"content\"].astype(str).apply(lambda x: len(x.split()))\n",
    "\n",
    "# Tokenanzahl schätzen (auf Basis von Wörtern)\n",
    "df_cleaned[\"estimated_tokens\"] = df_cleaned[\"word_count\"] * 1.3\n",
    "\n",
    "# Vorschau\n",
    "print(df_cleaned[[\"content\", \"word_count\", \"estimated_tokens\"]].head())\n",
    "total_tokens = df_cleaned[\"estimated_tokens\"].sum()\n",
    "print(f\"Gesamtanzahl geschätzter Tokens: {int(total_tokens):,}\")\n"
   ]
  },
  {
   "cell_type": "markdown",
   "metadata": {},
   "source": [
    "### Chunking"
   ]
  },
  {
   "cell_type": "markdown",
   "metadata": {},
   "source": [
    "Um keine wichtigen Informationen zu verlieren, ist es wichtig den Text in Chunks zu erlegen (wollen die wichtigen Token behalten)"
   ]
  },
  {
   "cell_type": "markdown",
   "metadata": {},
   "source": [
    "### Embedding"
   ]
  },
  {
   "cell_type": "code",
   "execution_count": 4,
   "metadata": {},
   "outputs": [],
   "source": [
    "os.environ[\"AZURE_OPENAI_API_KEY\"] = credentials.AZURE_OPENAI_API_KEY\n",
    "os.environ[\"AZURE_OPENAI_ENDPOINT\"] = credentials.AZURE_OPENAI_ENDPOINT\n",
    "os.environ[\"AZURE_OPENAI_API_VERSION\"] = \"2023-05-15\""
   ]
  },
  {
   "cell_type": "markdown",
   "metadata": {},
   "source": [
    "Ich werde hier das Model text-embedding-3-large verwenden und schauen, ob die Embeddings erstellt werden"
   ]
  },
  {
   "cell_type": "code",
   "execution_count": 8,
   "metadata": {},
   "outputs": [],
   "source": [
    "# Embedding Model Azure OpenAI \n",
    "# Model: text-embedding-3-large\n",
    "embedding_model_1 = AzureOpenAIEmbeddings(\n",
    "    azure_endpoint=os.environ[\"AZURE_OPENAI_ENDPOINT\"],\n",
    "    api_key=os.environ[\"AZURE_OPENAI_API_KEY\"],\n",
    "    api_version=os.environ[\"AZURE_OPENAI_API_VERSION\"],\n",
    "    deployment=\"text-embedding-3-large\", \n",
    ")"
   ]
  },
  {
   "cell_type": "code",
   "execution_count": null,
   "metadata": {},
   "outputs": [],
   "source": [
    "# embeddings erstellen (mit Pausen, aufgrund von Rate-Limits)\n",
    "import time\n",
    "\n",
    "texts_model_1 = df_cleaned[\"content\"].tolist()\n",
    "\n",
    "# Embeddings berechnen\n",
    "vectors = []\n",
    "for i, text in enumerate(texts_model_1):\n",
    "    vector_model_1 = embedding_model_1.embed_query(text)\n",
    "    vectors.append(vector_model_1)\n",
    "    \n",
    "    if i % 3 == 0: # alle 3 Abfragen 1 Sekunde Pause\n",
    "        time.sleep(1.5)\n",
    "\n",
    "# Kontrollausgabe\n",
    "print(\"Erster Text:\", texts_model_1[0][:100], \"...\")\n",
    "print(\"Erster Embedding-Vektor (gekürzt):\", vector_model_1[0][:5])"
   ]
  },
  {
   "cell_type": "code",
   "execution_count": null,
   "metadata": {},
   "outputs": [
    {
     "name": "stdout",
     "output_type": "stream",
     "text": [
      "Erster Text (gekürzt): 'Chinese automotive startup XPeng has shown one of the most dramatic auto production ramp ups in his\n",
      "Erster Embedding-Vektor (gekürzt): [0.004027563147246838, 0.027820918709039688, -0.020796367898583412, -0.010111656039953232, -0.010490612126886845]\n"
     ]
    }
   ],
   "source": [
    "# Test mit kleiner Teilmenge, dauert sonst zu lange\n",
    "texts_sample = df_cleaned[\"content\"].dropna().astype(str).tolist()[:10]\n",
    "\n",
    "# Embeddings berechnen\n",
    "vectors_sample_1 = embedding_model_1.embed_documents(texts_sample)\n",
    "\n",
    "# Ausgabe\n",
    "print(\"Erster Text (gekürzt):\", texts_sample[0][:100])\n",
    "print(\"Erster Embedding-Vektor (gekürzt):\", vectors_sample_1[0][:5])\n"
   ]
  },
  {
   "cell_type": "markdown",
   "metadata": {},
   "source": [
    "### ChromaDB"
   ]
  },
  {
   "cell_type": "markdown",
   "metadata": {},
   "source": [
    "Es wird nun mal ein Prototyp einer ChromaDB erstellt, mit welcher wir weiter das RAG-Modell erstellen können. In unserem letzten Schritt werden wir dann verschiedene Parameter testen und somit auch mehrere DB erstellen."
   ]
  },
  {
   "cell_type": "code",
   "execution_count": 5,
   "metadata": {},
   "outputs": [],
   "source": [
    "os.environ[\"AZURE_OPENAI_API_KEY\"] = credentials.AZURE_OPENAI_API_KEY\n",
    "os.environ[\"AZURE_OPENAI_ENDPOINT\"] = credentials.AZURE_OPENAI_ENDPOINT\n",
    "os.environ[\"AZURE_OPENAI_API_VERSION\"] = \"2023-05-15\""
   ]
  },
  {
   "cell_type": "code",
   "execution_count": null,
   "metadata": {},
   "outputs": [
    {
     "name": "stdout",
     "output_type": "stream",
     "text": [
      "Insgesamt 24453 Chunks erzeugt.\n",
      "✅ Batch 1: 10 Chunks hinzugefügt\n",
      "✅ Batch 2: 10 Chunks hinzugefügt\n",
      "✅ Batch 3: 10 Chunks hinzugefügt\n",
      "✅ Batch 4: 10 Chunks hinzugefügt\n",
      "✅ Batch 5: 10 Chunks hinzugefügt\n",
      "✅ Batch 6: 10 Chunks hinzugefügt\n",
      "✅ Batch 7: 10 Chunks hinzugefügt\n",
      "✅ Batch 8: 10 Chunks hinzugefügt\n",
      "✅ Batch 9: 10 Chunks hinzugefügt\n",
      "✅ Batch 10: 10 Chunks hinzugefügt\n",
      "✅ Batch 11: 10 Chunks hinzugefügt\n",
      "✅ Batch 12: 10 Chunks hinzugefügt\n",
      "✅ Batch 13: 10 Chunks hinzugefügt\n",
      "✅ Batch 14: 10 Chunks hinzugefügt\n",
      "✅ Batch 15: 10 Chunks hinzugefügt\n",
      "✅ Batch 16: 10 Chunks hinzugefügt\n",
      "✅ Batch 17: 10 Chunks hinzugefügt\n",
      "✅ Batch 18: 10 Chunks hinzugefügt\n",
      "✅ Batch 19: 10 Chunks hinzugefügt\n",
      "✅ Batch 20: 10 Chunks hinzugefügt\n",
      "✅ Batch 21: 10 Chunks hinzugefügt\n",
      "✅ Batch 22: 10 Chunks hinzugefügt\n",
      "✅ Batch 23: 10 Chunks hinzugefügt\n",
      "✅ Batch 24: 10 Chunks hinzugefügt\n",
      "✅ Batch 25: 10 Chunks hinzugefügt\n",
      "✅ Batch 26: 10 Chunks hinzugefügt\n",
      "✅ Batch 27: 10 Chunks hinzugefügt\n",
      "✅ Batch 28: 10 Chunks hinzugefügt\n",
      "✅ Batch 29: 10 Chunks hinzugefügt\n",
      "✅ Batch 30: 10 Chunks hinzugefügt\n",
      "✅ Batch 31: 10 Chunks hinzugefügt\n",
      "✅ Batch 32: 10 Chunks hinzugefügt\n",
      "✅ Batch 33: 10 Chunks hinzugefügt\n",
      "✅ Batch 34: 10 Chunks hinzugefügt\n",
      "✅ Batch 35: 10 Chunks hinzugefügt\n",
      "✅ Batch 36: 10 Chunks hinzugefügt\n",
      "✅ Batch 37: 10 Chunks hinzugefügt\n",
      "✅ Batch 38: 10 Chunks hinzugefügt\n",
      "✅ Batch 39: 10 Chunks hinzugefügt\n",
      "✅ Batch 40: 10 Chunks hinzugefügt\n",
      "✅ Batch 41: 10 Chunks hinzugefügt\n",
      "✅ Batch 42: 10 Chunks hinzugefügt\n",
      "✅ Batch 43: 10 Chunks hinzugefügt\n",
      "✅ Batch 44: 10 Chunks hinzugefügt\n",
      "✅ Batch 45: 10 Chunks hinzugefügt\n",
      "✅ Batch 46: 10 Chunks hinzugefügt\n",
      "✅ Batch 47: 10 Chunks hinzugefügt\n",
      "✅ Batch 48: 10 Chunks hinzugefügt\n",
      "✅ Batch 49: 10 Chunks hinzugefügt\n",
      "✅ Batch 50: 10 Chunks hinzugefügt\n",
      "✅ Batch 51: 10 Chunks hinzugefügt\n",
      "✅ Batch 52: 10 Chunks hinzugefügt\n",
      "✅ Batch 53: 10 Chunks hinzugefügt\n",
      "✅ Batch 54: 10 Chunks hinzugefügt\n",
      "✅ Batch 55: 10 Chunks hinzugefügt\n",
      "✅ Batch 56: 10 Chunks hinzugefügt\n",
      "✅ Batch 57: 10 Chunks hinzugefügt\n",
      "✅ Batch 58: 10 Chunks hinzugefügt\n",
      "✅ Batch 59: 10 Chunks hinzugefügt\n",
      "✅ Batch 60: 10 Chunks hinzugefügt\n",
      "✅ Batch 61: 10 Chunks hinzugefügt\n",
      "✅ Batch 62: 10 Chunks hinzugefügt\n",
      "✅ Batch 63: 10 Chunks hinzugefügt\n",
      "✅ Batch 64: 10 Chunks hinzugefügt\n",
      "✅ Batch 65: 10 Chunks hinzugefügt\n",
      "✅ Batch 66: 10 Chunks hinzugefügt\n",
      "✅ Batch 67: 10 Chunks hinzugefügt\n",
      "✅ Batch 68: 10 Chunks hinzugefügt\n",
      "✅ Batch 69: 10 Chunks hinzugefügt\n",
      "✅ Batch 70: 10 Chunks hinzugefügt\n",
      "✅ Batch 71: 10 Chunks hinzugefügt\n",
      "✅ Batch 72: 10 Chunks hinzugefügt\n",
      "✅ Batch 73: 10 Chunks hinzugefügt\n",
      "✅ Batch 74: 10 Chunks hinzugefügt\n",
      "✅ Batch 75: 10 Chunks hinzugefügt\n",
      "✅ Batch 76: 10 Chunks hinzugefügt\n",
      "✅ Batch 77: 10 Chunks hinzugefügt\n",
      "✅ Batch 78: 10 Chunks hinzugefügt\n",
      "✅ Batch 79: 10 Chunks hinzugefügt\n",
      "✅ Batch 80: 10 Chunks hinzugefügt\n",
      "✅ Batch 81: 10 Chunks hinzugefügt\n",
      "✅ Batch 82: 10 Chunks hinzugefügt\n",
      "✅ Batch 83: 10 Chunks hinzugefügt\n",
      "✅ Batch 84: 10 Chunks hinzugefügt\n",
      "✅ Batch 85: 10 Chunks hinzugefügt\n",
      "✅ Batch 86: 10 Chunks hinzugefügt\n",
      "✅ Batch 87: 10 Chunks hinzugefügt\n",
      "✅ Batch 88: 10 Chunks hinzugefügt\n",
      "✅ Batch 89: 10 Chunks hinzugefügt\n",
      "✅ Batch 90: 10 Chunks hinzugefügt\n",
      "✅ Batch 91: 10 Chunks hinzugefügt\n",
      "✅ Batch 92: 10 Chunks hinzugefügt\n",
      "✅ Batch 93: 10 Chunks hinzugefügt\n",
      "✅ Batch 94: 10 Chunks hinzugefügt\n",
      "✅ Batch 95: 10 Chunks hinzugefügt\n",
      "✅ Batch 96: 10 Chunks hinzugefügt\n",
      "✅ Batch 97: 10 Chunks hinzugefügt\n",
      "✅ Batch 98: 10 Chunks hinzugefügt\n",
      "✅ Batch 99: 10 Chunks hinzugefügt\n",
      "✅ Batch 100: 10 Chunks hinzugefügt\n",
      "✅ Batch 101: 10 Chunks hinzugefügt\n",
      "✅ Batch 102: 10 Chunks hinzugefügt\n",
      "✅ Batch 103: 10 Chunks hinzugefügt\n",
      "✅ Batch 104: 10 Chunks hinzugefügt\n",
      "✅ Batch 105: 10 Chunks hinzugefügt\n",
      "✅ Batch 106: 10 Chunks hinzugefügt\n",
      "✅ Batch 107: 10 Chunks hinzugefügt\n",
      "✅ Batch 108: 10 Chunks hinzugefügt\n",
      "✅ Batch 109: 10 Chunks hinzugefügt\n",
      "✅ Batch 110: 10 Chunks hinzugefügt\n",
      "✅ Batch 111: 10 Chunks hinzugefügt\n",
      "✅ Batch 112: 10 Chunks hinzugefügt\n",
      "✅ Batch 113: 10 Chunks hinzugefügt\n",
      "✅ Batch 114: 10 Chunks hinzugefügt\n",
      "✅ Batch 115: 10 Chunks hinzugefügt\n",
      "✅ Batch 116: 10 Chunks hinzugefügt\n",
      "✅ Batch 117: 10 Chunks hinzugefügt\n",
      "✅ Batch 118: 10 Chunks hinzugefügt\n",
      "✅ Batch 119: 10 Chunks hinzugefügt\n",
      "✅ Batch 120: 10 Chunks hinzugefügt\n",
      "✅ Batch 121: 10 Chunks hinzugefügt\n",
      "✅ Batch 122: 10 Chunks hinzugefügt\n",
      "✅ Batch 123: 10 Chunks hinzugefügt\n",
      "✅ Batch 124: 10 Chunks hinzugefügt\n",
      "✅ Batch 125: 10 Chunks hinzugefügt\n",
      "✅ Batch 126: 10 Chunks hinzugefügt\n",
      "✅ Batch 127: 10 Chunks hinzugefügt\n",
      "✅ Batch 128: 10 Chunks hinzugefügt\n",
      "✅ Batch 129: 10 Chunks hinzugefügt\n",
      "✅ Batch 130: 10 Chunks hinzugefügt\n",
      "✅ Batch 131: 10 Chunks hinzugefügt\n",
      "✅ Batch 132: 10 Chunks hinzugefügt\n",
      "✅ Batch 133: 10 Chunks hinzugefügt\n",
      "✅ Batch 134: 10 Chunks hinzugefügt\n",
      "✅ Batch 135: 10 Chunks hinzugefügt\n",
      "✅ Batch 136: 10 Chunks hinzugefügt\n",
      "✅ Batch 137: 10 Chunks hinzugefügt\n",
      "✅ Batch 138: 10 Chunks hinzugefügt\n",
      "✅ Batch 139: 10 Chunks hinzugefügt\n",
      "✅ Batch 140: 10 Chunks hinzugefügt\n",
      "✅ Batch 141: 10 Chunks hinzugefügt\n",
      "✅ Batch 142: 10 Chunks hinzugefügt\n",
      "✅ Batch 143: 10 Chunks hinzugefügt\n",
      "✅ Batch 144: 10 Chunks hinzugefügt\n",
      "✅ Batch 145: 10 Chunks hinzugefügt\n",
      "✅ Batch 146: 10 Chunks hinzugefügt\n",
      "✅ Batch 147: 10 Chunks hinzugefügt\n",
      "✅ Batch 148: 10 Chunks hinzugefügt\n",
      "✅ Batch 149: 10 Chunks hinzugefügt\n",
      "✅ Batch 150: 10 Chunks hinzugefügt\n",
      "✅ Batch 151: 10 Chunks hinzugefügt\n",
      "✅ Batch 152: 10 Chunks hinzugefügt\n",
      "✅ Batch 153: 10 Chunks hinzugefügt\n",
      "✅ Batch 154: 10 Chunks hinzugefügt\n",
      "✅ Batch 155: 10 Chunks hinzugefügt\n",
      "✅ Batch 156: 10 Chunks hinzugefügt\n",
      "✅ Batch 157: 10 Chunks hinzugefügt\n",
      "✅ Batch 158: 10 Chunks hinzugefügt\n",
      "✅ Batch 159: 10 Chunks hinzugefügt\n",
      "✅ Batch 160: 10 Chunks hinzugefügt\n",
      "✅ Batch 161: 10 Chunks hinzugefügt\n",
      "✅ Batch 162: 10 Chunks hinzugefügt\n",
      "✅ Batch 163: 10 Chunks hinzugefügt\n",
      "✅ Batch 164: 10 Chunks hinzugefügt\n",
      "✅ Batch 165: 10 Chunks hinzugefügt\n",
      "✅ Batch 166: 10 Chunks hinzugefügt\n",
      "✅ Batch 167: 10 Chunks hinzugefügt\n",
      "✅ Batch 168: 10 Chunks hinzugefügt\n",
      "✅ Batch 169: 10 Chunks hinzugefügt\n",
      "✅ Batch 170: 10 Chunks hinzugefügt\n",
      "✅ Batch 171: 10 Chunks hinzugefügt\n",
      "✅ Batch 172: 10 Chunks hinzugefügt\n",
      "✅ Batch 173: 10 Chunks hinzugefügt\n",
      "✅ Batch 174: 10 Chunks hinzugefügt\n",
      "✅ Batch 175: 10 Chunks hinzugefügt\n",
      "✅ Batch 176: 10 Chunks hinzugefügt\n",
      "✅ Batch 177: 10 Chunks hinzugefügt\n",
      "✅ Batch 178: 10 Chunks hinzugefügt\n",
      "✅ Batch 179: 10 Chunks hinzugefügt\n",
      "✅ Batch 180: 10 Chunks hinzugefügt\n",
      "✅ Batch 181: 10 Chunks hinzugefügt\n",
      "✅ Batch 182: 10 Chunks hinzugefügt\n",
      "✅ Batch 183: 10 Chunks hinzugefügt\n",
      "✅ Batch 184: 10 Chunks hinzugefügt\n",
      "✅ Batch 185: 10 Chunks hinzugefügt\n",
      "✅ Batch 186: 10 Chunks hinzugefügt\n",
      "✅ Batch 187: 10 Chunks hinzugefügt\n",
      "✅ Batch 188: 10 Chunks hinzugefügt\n",
      "✅ Batch 189: 10 Chunks hinzugefügt\n",
      "✅ Batch 190: 10 Chunks hinzugefügt\n",
      "✅ Batch 191: 10 Chunks hinzugefügt\n",
      "✅ Batch 192: 10 Chunks hinzugefügt\n",
      "✅ Batch 193: 10 Chunks hinzugefügt\n",
      "✅ Batch 194: 10 Chunks hinzugefügt\n",
      "✅ Batch 195: 10 Chunks hinzugefügt\n",
      "✅ Batch 196: 10 Chunks hinzugefügt\n",
      "✅ Batch 197: 10 Chunks hinzugefügt\n",
      "✅ Batch 198: 10 Chunks hinzugefügt\n",
      "✅ Batch 199: 10 Chunks hinzugefügt\n",
      "✅ Batch 200: 10 Chunks hinzugefügt\n",
      "✅ Batch 201: 10 Chunks hinzugefügt\n",
      "✅ Batch 202: 10 Chunks hinzugefügt\n",
      "✅ Batch 203: 10 Chunks hinzugefügt\n",
      "✅ Batch 204: 10 Chunks hinzugefügt\n",
      "✅ Batch 205: 10 Chunks hinzugefügt\n",
      "✅ Batch 206: 10 Chunks hinzugefügt\n",
      "✅ Batch 207: 10 Chunks hinzugefügt\n",
      "✅ Batch 208: 10 Chunks hinzugefügt\n",
      "✅ Batch 209: 10 Chunks hinzugefügt\n"
     ]
    }
   ],
   "source": [
    "from embedding import generate_embeddings_to_chroma\n",
    "\n",
    "vector_store = generate_embeddings_to_chroma(\n",
    "    df=df_cleaned,\n",
    "    text_column=\"content\",\n",
    "    deployment_name=\"text-embedding-3-large\",\n",
    "    batch_size=10,\n",
    "    sleep_time=2,\n",
    "    chunk_size=800,\n",
    "    chunk_overlap=100\n",
    ")\n"
   ]
  },
  {
   "cell_type": "markdown",
   "metadata": {},
   "source": [
    "#### ChromaDB laden"
   ]
  },
  {
   "cell_type": "code",
   "execution_count": 5,
   "metadata": {},
   "outputs": [
    {
     "name": "stderr",
     "output_type": "stream",
     "text": [
      "/var/folders/0l/jk3grg717z34yf9xh85kj0bh0000gn/T/ipykernel_44954/2905731710.py:16: LangChainDeprecationWarning: The class `Chroma` was deprecated in LangChain 0.2.9 and will be removed in 1.0. An updated version of the class exists in the :class:`~langchain-chroma package and should be used instead. To use it run `pip install -U :class:`~langchain-chroma` and import as `from :class:`~langchain_chroma import Chroma``.\n",
      "  vector_store = Chroma(\n"
     ]
    }
   ],
   "source": [
    "# Embedding-Funktion (muss identisch sein wie beim Erstellen der DB!)\n",
    "embedding_model = AzureOpenAIEmbeddings(\n",
    "    azure_endpoint=os.environ[\"AZURE_OPENAI_ENDPOINT\"],\n",
    "    api_key=os.environ[\"AZURE_OPENAI_API_KEY\"],\n",
    "    api_version=os.environ[\"AZURE_OPENAI_API_VERSION\"],\n",
    "    deployment=\"text-embedding-3-large\" # muss mit dem Deployment-Namen übereinstimmen\n",
    ")\n",
    "\n",
    "# Ordnerpfad, wo deine .bin/.pickle-Dateien liegen\n",
    "persist_directory = \"MC1/src/chroma_langchain_db/1180bfbe-420d-4671-8e5a-d2c56960e7b7\"\n",
    "\n",
    "# Collection-Namen angeben\n",
    "collection_name = \"text-embedding-3-large\" # wird automatisch erstellt, haben wir also\n",
    "\n",
    "# Chroma laden\n",
    "vector_store = Chroma(\n",
    "    embedding_function=embedding_model,\n",
    "    collection_name=collection_name,\n",
    "    persist_directory=persist_directory\n",
    ")"
   ]
  },
  {
   "cell_type": "code",
   "execution_count": 9,
   "metadata": {},
   "outputs": [
    {
     "name": "stdout",
     "output_type": "stream",
     "text": [
      "Anzahl der gespeicherten Dokumente: 0\n"
     ]
    }
   ],
   "source": [
    "count = vector_store._collection.count()\n",
    "print(f\"Anzahl der gespeicherten Dokumente: {count}\")\n"
   ]
  },
  {
   "cell_type": "code",
   "execution_count": null,
   "metadata": {},
   "outputs": [],
   "source": [
    "from langchain.text_splitter import RecursiveCharacterTextSplitter\n",
    "from langchain.text_splitter import SentenceTransformersTokenTextSplitter\n",
    "from Chroma_Embedding_Pipeline import ChromaEmbeddingPipeline"
   ]
  },
  {
   "cell_type": "code",
   "execution_count": null,
   "metadata": {},
   "outputs": [],
   "source": [
    "df_train_cleaned = pd.read_parquet('../data_mc1/data_processed/df_train_1000.parquet')"
   ]
  },
  {
   "cell_type": "code",
   "execution_count": null,
   "metadata": {},
   "outputs": [],
   "source": [
    "# Vorlage für das erstellen einer ChromaDB\n",
    "# 1) TextSplitter optional definieren\n",
    "my_splitter = RecursiveCharacterTextSplitter(\n",
    "    chunk_size=800,\n",
    "    chunk_overlap=100,\n",
    "    separators=[\"\\n\\n\", \"\\n\", \".\", \" \", \"\"]\n",
    ")\n",
    "\n",
    "# 2) Metadaten-Dict für Chroma (optional)\n",
    "metadata_config = {\n",
    "    \"hnsw:space\": \"cosine\",\n",
    "    \"hnsw:M\": 16,\n",
    "    \"efConstruction\": 200\n",
    "}\n",
    "\n",
    "# 3) Pipeline-Objekt erstellen\n",
    "pipeline = ChromaEmbeddingPipeline(\n",
    "    df=df_200_cleaned,\n",
    "    text_column=\"content\",\n",
    "    deployment_name=\"text-embedding-3-large\",  # Dein Azure-Deployment-Name\n",
    "    splitter=my_splitter,\n",
    "    collection_name=\"auto\",                    # Automatisch generiert\n",
    "    persist_directory=\"auto\",                  # Automatisch generiert => z.B. \"./chroma_recchar_cs800_co100_3-large\"\n",
    "    metadata=metadata_config,\n",
    "    batch_size=20,\n",
    "    sleep_time=1.0\n",
    ")\n",
    "\n",
    "# 4) Pipeline starten -> Chroma-DB wird erstellt\n",
    "vector_store = pipeline.run()\n"
   ]
  },
  {
   "cell_type": "code",
   "execution_count": null,
   "metadata": {},
   "outputs": [],
   "source": [
    "persist_directory = \"./chroma_recchar_cs800_co100_3-large\"  \n",
    "collection_name = \"recchar_cs800_co100_3-large\"  # oder so ähnlich\n",
    "\n",
    "# 4. Dokumente zählen (interner Zugriff, für Debug-Zwecke)\n",
    "count = vector_store._collection.count()\n",
    "print(f\"Dokumente in der Collection '{collection_name}': {count}\")\n",
    "\n",
    "# Oder eine kleine Stichprobe anzeigen\n",
    "docs_info = vector_store._collection.peek(limit=3)  # holt 3 Dokumente\n",
    "print(docs_info)"
   ]
  },
  {
   "cell_type": "code",
   "execution_count": null,
   "metadata": {},
   "outputs": [],
   "source": [
    "# Embedding-Funktion (muss identisch sein wie beim Erstellen der DB!)\n",
    "embedding_model = AzureOpenAIEmbeddings(\n",
    "    azure_endpoint=AZURE_OPENAI_ENDPOINT,\n",
    "    api_key=AZURE_OPENAI_API_KEY,\n",
    "    api_version=\"2023-05-15\",\n",
    "    deployment=\"text-embedding-3-large\"  # Muss mit dem Deployment-Namen übereinstimmen\n",
    ")\n",
    "\n",
    "# Dynamischer Basis-Pfad finden\n",
    "# Angenommen, das Notebook liegt in npr_fs25/MC1/doc\n",
    "notebook_dir = Path.cwd()  # Aktuelles Arbeitsverzeichnis (doc)\n",
    "project_root = notebook_dir.parent  # Eine Ebene höher (npr_fs25/MC1)\n",
    "src_dir = project_root / \"src\"  # Pfad zu npr_fs25/MC1/src\n",
    "\n",
    "# Stelle sicher, dass src_dir existiert\n",
    "if not src_dir.exists():\n",
    "    raise FileNotFoundError(f\"Source directory {src_dir} does not exist. Please check the project structure.\")\n",
    "\n",
    "# Konfigurationen der zu ladenden Datenbanken\n",
    "db_configs = [\n",
    "    {\n",
    "        \"persist_directory\": str(src_dir / \"chroma_recchar_800_cosine\"),\n",
    "        \"collection_name\": \"recchar_800_cosine\",\n",
    "        \"alt_collection_name\": \"chroma_recchar_800_cosine\"\n",
    "    },\n",
    "    {\n",
    "        \"persist_directory\": str(src_dir / \"chroma_recchar_800_l2\"),\n",
    "        \"collection_name\": \"recchar_800_l2\",\n",
    "        \"alt_collection_name\": \"chroma_recchar_800_l2\"\n",
    "    },\n",
    "    {\n",
    "        \"persist_directory\": str(src_dir / \"chroma_recchar_800_ip\"),\n",
    "        \"collection_name\": \"recchar_800_ip\",\n",
    "        \"alt_collection_name\": \"chroma_recchar_800_ip\"\n",
    "    },\n",
    "    {\n",
    "        \"persist_directory\": str(src_dir / \"chroma_senttrans_200_cosine\"),\n",
    "        \"collection_name\": \"senttrans_200_cosine\",\n",
    "        \"alt_collection_name\": \"chroma_senttrans_200_cosine\"\n",
    "    },\n",
    "    {\n",
    "        \"persist_directory\": str(src_dir / \"chroma_senttrans_200_l2\"),\n",
    "        \"collection_name\": \"senttrans_200_l2\",\n",
    "        \"alt_collection_name\": \"chroma_senttrans_200_l2\"\n",
    "    },\n",
    "    {\n",
    "        \"persist_directory\": str(src_dir / \"chroma_senttrans_200_ip\"),\n",
    "        \"collection_name\": \"senttrans_200_ip\",\n",
    "        \"alt_collection_name\": \"chroma_senttrans_200_ip\"\n",
    "    }\n",
    "]\n",
    "\n",
    "# Dictionary zum Speichern der geladenen Vector Stores\n",
    "vector_stores = {}\n",
    "\n",
    "for config in db_configs:\n",
    "    try:\n",
    "        client = chromadb.PersistentClient(path=str(config[\"persist_directory\"]))\n",
    "        collection_names = client.list_collections()\n",
    "        \n",
    "        if config[\"collection_name\"] in collection_names:\n",
    "            print(f\"Loading {config['collection_name']}...\")\n",
    "            vector_store = Chroma(\n",
    "                embedding_function=embedding_model,\n",
    "                collection_name=config[\"collection_name\"],\n",
    "                persist_directory=str(config[\"persist_directory\"])\n",
    "            )\n",
    "            count = vector_store._collection.count()\n",
    "            print(f\"  -> {count} Dokumente geladen.\\n\")\n",
    "            vector_stores[config[\"collection_name\"]] = vector_store\n",
    "        else:\n",
    "            print(f\"Collection {config['collection_name']} nicht gefunden, übersprungen.\\n\")\n",
    "    except Exception as e:\n",
    "        print(f\"Fehler beim Laden von {config['collection_name']}: {str(e)}\\n\")\n",
    "\n",
    "# Zusammenfassung\n",
    "print(\"\\nGeladene Vector Stores:\", list(vector_stores.keys()))"
   ]
  },
  {
   "cell_type": "code",
   "execution_count": null,
   "metadata": {},
   "outputs": [],
   "source": [
    "# Embedding-Funktion (muss identisch sein wie beim Erstellen der DB!)\n",
    "embedding_model = AzureOpenAIEmbeddings(\n",
    "    azure_endpoint=AZURE_OPENAI_ENDPOINT,\n",
    "    api_key=AZURE_OPENAI_API_KEY,\n",
    "    api_version=\"2023-05-15\",\n",
    "    deployment=\"text-embedding-3-large\"  # Muss mit dem Deployment-Namen übereinstimmen\n",
    ")\n",
    "\n",
    "# Pfad zur zu ladenden DB\n",
    "persist_directory = Path.cwd().parent / \"src\" / \"chroma_recchar_800_cosine\"\n",
    "\n",
    "collection_name = \"recchar_800_cosine\"\n",
    "\n",
    "# Client und Collection prüfen\n",
    "client = chromadb.PersistentClient(path=str(persist_directory))\n",
    "collection_names = client.list_collections()\n",
    "\n",
    "if collection_name not in collection_names:\n",
    "    raise ValueError(f\"Collection '{collection_name}' nicht gefunden in {persist_directory}.\")\n",
    "\n",
    "print(f\"Collection '{collection_name}' gefunden. Laden...\")\n",
    "\n",
    "# Vector Store laden\n",
    "vector_store = Chroma(\n",
    "    embedding_function=embedding_model,\n",
    "    collection_name=collection_name,\n",
    "    persist_directory=str(persist_directory)\n",
    ")\n",
    "\n",
    "# Dokument-Anzahl prüfen\n",
    "doc_count = vector_store._collection.count()\n",
    "print(f\"Datenbank geladen: {doc_count} Dokumente gefunden.\")"
   ]
  },
  {
   "cell_type": "markdown",
   "metadata": {},
   "source": [
    "### Evaluierung"
   ]
  },
  {
   "cell_type": "code",
   "execution_count": 2,
   "metadata": {},
   "outputs": [],
   "source": [
    "df_evaluierung = pd.read_parquet('../data_mc1/data_eval/df_results_similarity_simple.parquet')"
   ]
  },
  {
   "cell_type": "code",
   "execution_count": 3,
   "metadata": {},
   "outputs": [
    {
     "data": {
      "application/vnd.microsoft.datawrangler.viewer.v0+json": {
       "columns": [
        {
         "name": "index",
         "rawType": "int64",
         "type": "integer"
        },
        {
         "name": "question",
         "rawType": "object",
         "type": "string"
        },
        {
         "name": "relevant_text",
         "rawType": "object",
         "type": "string"
        },
        {
         "name": "relevant_text_llm",
         "rawType": "object",
         "type": "unknown"
        },
        {
         "name": "retrieved_context",
         "rawType": "object",
         "type": "string"
        },
        {
         "name": "answer",
         "rawType": "object",
         "type": "string"
        },
        {
         "name": "answer_llm",
         "rawType": "object",
         "type": "string"
        }
       ],
       "conversionMethod": "pd.DataFrame",
       "ref": "c70e7ff1-9317-4f78-ab4c-845c961c38ff",
       "rows": [
        [
         "0",
         "What is the EU’s Green Deal Industrial Plan?",
         "The European counterpart to the US Inflation Reduction Act (IRA) aims to create an environment that is conducive to increasing the European Union's manufacturing capacity of “net-zero” technologies, to improve the competitiveness of European industry.",
         "[\"European Commission introduces Green Deal Industrial Plan – pv magazine International: The European Commission listed tax exemptions flexible aid and the promotion of local manufacturing among its key strategies for the Green Deal Industrial Plan. However the SolarPower Europe industry group has criticized the plan' s lack of focus on solar. European Commission President Ursula von der Leyen presents the Green Deal Industrial Plan. The European Commission has published a new document on the Green Deal Industrial Plan that EC President Ursula von der Leyen announced at Davos in mid January\"\n \"European Commission introduces Green Deal Industrial Plan – pv magazine International: The European Commission listed tax exemptions flexible aid and the promotion of local manufacturing among its key strategies for the Green Deal Industrial Plan. However the SolarPower Europe industry group has criticized the plan' s lack of focus on solar. European Commission President Ursula von der Leyen presents the Green Deal Industrial Plan. The European Commission has published a new document on the Green Deal Industrial Plan that EC President Ursula von der Leyen announced at Davos in mid January\"\n '. Dries Acke policy director at SolarPower Europe said in a statement last week \" Industrial policy focus on critical renewable energy supply chains is a good thing. However we\\' re worried by the lack of focus in the Green Deal Industrial Plan. We need support specifically for the bulk technologies that net zero and energy security are based on. \" A more detailed extent of the plan still remains to be seen and some uncertainty as to how companies could be eligible for funding or the extent of such funding is yet to be unveiled. The IRA contains a detailed list of manufacturing credits throughout the value chain to boost the US PV manufacturing industry. \" We certainly welcome EU initiatives such as the Green Deal Industrial Plan']",
         "European Commission introduces Green Deal Industrial Plan – pv magazine International: The European Commission listed tax exemptions flexible aid and the promotion of local manufacturing among its key strategies for the Green Deal Industrial Plan. However the SolarPower Europe industry group has criticized the plan' s lack of focus on solar. European Commission President Ursula von der Leyen presents the Green Deal Industrial Plan. The European Commission has published a new document on the Green Deal Industrial Plan that EC President Ursula von der Leyen announced at Davos in mid January\n\nEuropean Commission introduces Green Deal Industrial Plan – pv magazine International: The European Commission listed tax exemptions flexible aid and the promotion of local manufacturing among its key strategies for the Green Deal Industrial Plan. However the SolarPower Europe industry group has criticized the plan' s lack of focus on solar. European Commission President Ursula von der Leyen presents the Green Deal Industrial Plan. The European Commission has published a new document on the Green Deal Industrial Plan that EC President Ursula von der Leyen announced at Davos in mid January\n\n. Dries Acke policy director at SolarPower Europe said in a statement last week \" Industrial policy focus on critical renewable energy supply chains is a good thing. However we' re worried by the lack of focus in the Green Deal Industrial Plan. We need support specifically for the bulk technologies that net zero and energy security are based on. \" A more detailed extent of the plan still remains to be seen and some uncertainty as to how companies could be eligible for funding or the extent of such funding is yet to be unveiled. The IRA contains a detailed list of manufacturing credits throughout the value chain to boost the US PV manufacturing industry. \" We certainly welcome EU initiatives such as the Green Deal Industrial Plan",
         "The EU’s Green Deal Industrial Plan aims to enhance the competitiveness of its net zero industry and accelerate the transition to net zero by supporting the expansion of European manufacturing of technologies, goods, and services necessary to meet climate targets.",
         "The EU’s Green Deal Industrial Plan is a strategy introduced by the European Commission to support the transition to a net-zero economy and strengthen the competitiveness of European industries in the green energy sector. Key elements of the plan include tax exemptions, flexible aid, and the promotion of local manufacturing. It aims to boost critical renewable energy supply chains and enhance energy security. However, the plan has been criticized by SolarPower Europe for its lack of specific focus on solar energy and bulk technologies essential for achieving net-zero goals. The full details of the plan, including eligibility criteria and funding extent, are yet to be unveiled."
        ],
        [
         "1",
         "When did the cooperation between GM and Honda on fuel cell vehicles start?",
         "What caught our eye was a new hookup between GM and Honda. Honda was also hammering away at the challenge of introducing fuel cell vehicles to the US market. The collaboration launched in July of 2013, providing for the two companies to share the combined total of 1,200 fuel cell patents they compiled in the years leading up to 2012.",
         "['. The Army demonstration was built on GM\\' s Project Driveway fleet of 119 vehicles which launched in 2007 and racked up almost 3 million miles of driving in six years. What caught our eye was a new hookup between GM and Honda. Honda was also hammering away at the challenge of introducing fuel cell vehicles to the US market. The collaboration launched in July of 2013 providing for the two companies to share the combined total of 1 200 fuel cell patents they compiled in the years leading up to 2012. GM introduced its \" SURUS \" fuel cell electric vehicle platform in 2017 but it still didn\\' t have a fuel cell EV in commercial production by 2020 though a preliminary agreement with Nikola Motor involving the Badger fuel cell electric pickup truck suggested that activity was about to pick up'\n '. The Army demonstration was built on GM\\' s Project Driveway fleet of 119 vehicles which launched in 2007 and racked up almost 3 million miles of driving in six years. What caught our eye was a new hookup between GM and Honda. Honda was also hammering away at the challenge of introducing fuel cell vehicles to the US market. The collaboration launched in July of 2013 providing for the two companies to share the combined total of 1 200 fuel cell patents they compiled in the years leading up to 2012. GM introduced its \" SURUS \" fuel cell electric vehicle platform in 2017 but it still didn\\' t have a fuel cell EV in commercial production by 2020 though a preliminary agreement with Nikola Motor involving the Badger fuel cell electric pickup truck suggested that activity was about to pick up'\n '. Unfortunately for FCEV fans Nikola fell on its face following a scandal involving former CEO Trevor Milton. Nikola has since recovered itself but the relationship with GM foundered. GM has not been idling around since then. As part of its collaboration with Honda GM set its sights on developing fuel cells for heavy duty use resulting in its Hydrotec suite of fuel cell systems. In 2021 GM launched a hydrogen powered flight collaboration with Hydrotec and the aerospace company Liebnerr. GM is also collaborating with Navistar on fuel cells for trucks and with Wabtec on fuel cells for locomotives. GM has also been deploying Hydrotec modules as transportable charging stations for battery electric vehicles']",
         ". The Army demonstration was built on GM' s Project Driveway fleet of 119 vehicles which launched in 2007 and racked up almost 3 million miles of driving in six years. What caught our eye was a new hookup between GM and Honda. Honda was also hammering away at the challenge of introducing fuel cell vehicles to the US market. The collaboration launched in July of 2013 providing for the two companies to share the combined total of 1 200 fuel cell patents they compiled in the years leading up to 2012. GM introduced its \" SURUS \" fuel cell electric vehicle platform in 2017 but it still didn' t have a fuel cell EV in commercial production by 2020 though a preliminary agreement with Nikola Motor involving the Badger fuel cell electric pickup truck suggested that activity was about to pick up\n\n. The Army demonstration was built on GM' s Project Driveway fleet of 119 vehicles which launched in 2007 and racked up almost 3 million miles of driving in six years. What caught our eye was a new hookup between GM and Honda. Honda was also hammering away at the challenge of introducing fuel cell vehicles to the US market. The collaboration launched in July of 2013 providing for the two companies to share the combined total of 1 200 fuel cell patents they compiled in the years leading up to 2012. GM introduced its \" SURUS \" fuel cell electric vehicle platform in 2017 but it still didn' t have a fuel cell EV in commercial production by 2020 though a preliminary agreement with Nikola Motor involving the Badger fuel cell electric pickup truck suggested that activity was about to pick up\n\n. Unfortunately for FCEV fans Nikola fell on its face following a scandal involving former CEO Trevor Milton. Nikola has since recovered itself but the relationship with GM foundered. GM has not been idling around since then. As part of its collaboration with Honda GM set its sights on developing fuel cells for heavy duty use resulting in its Hydrotec suite of fuel cell systems. In 2021 GM launched a hydrogen powered flight collaboration with Hydrotec and the aerospace company Liebnerr. GM is also collaborating with Navistar on fuel cells for trucks and with Wabtec on fuel cells for locomotives. GM has also been deploying Hydrotec modules as transportable charging stations for battery electric vehicles",
         "July 2013",
         "The cooperation between GM and Honda on fuel cell vehicles started in **July of 2013**."
        ],
        [
         "2",
         "Did Colgate-Palmolive enter into PPA agreements with solar developers?",
         "Scout Clean Energy, a Colorado-based renewable energy developer, owner and operator, has signed a power purchase agreement with Colgate-Palmolive for power from Scout’s 209 MW DC Markum Solar Farm near Waco, Texas.",
         "['Scout, Colgate-Palmolive Sign PPA for Texas Solar Farm: Scout Clean Energy a Colorado based renewable energy developer owner and operator has signed a power purchase agreement with Colgate Palmolive for power from Scout\\' s 209 MW DC Markum Solar Farm near Waco Texas. This fall Scout will begin and manage project construction. Markum will generate enough clean energy for the ERCOT grid to power approximately 32 200 homes. \" Virtual power purchase agreements  VPPAs are a valuable part of our renewable energy master plan and will help us achieve our targets of net zero carbon emissions by 2040 and 100 renewable electricity across our global operations by 2030 \" says Ann Tracy Colgate Palmolive chief sustainability officer in an announcement'\n 'Scout, Colgate-Palmolive Sign PPA for Texas Solar Farm: Scout Clean Energy a Colorado based renewable energy developer owner and operator has signed a power purchase agreement with Colgate Palmolive for power from Scout\\' s 209 MW DC Markum Solar Farm near Waco Texas. This fall Scout will begin and manage project construction. Markum will generate enough clean energy for the ERCOT grid to power approximately 32 200 homes. \" Virtual power purchase agreements  VPPAs are a valuable part of our renewable energy master plan and will help us achieve our targets of net zero carbon emissions by 2040 and 100 renewable electricity across our global operations by 2030 \" says Ann Tracy Colgate Palmolive chief sustainability officer in an announcement'\n '. In an IPO prospectus DESRI touted its ability to secure consistent revenue streams from power purchase agreements  PPAs some with terms of more than three decades. Last October saw the company close debt and tax equity financing for a 149MWac PV project in Michigan and sign a PPA for a 160MWac solar plant in Virginia that will help to power Facebook data centres.']",
         "Scout, Colgate-Palmolive Sign PPA for Texas Solar Farm: Scout Clean Energy a Colorado based renewable energy developer owner and operator has signed a power purchase agreement with Colgate Palmolive for power from Scout' s 209 MW DC Markum Solar Farm near Waco Texas. This fall Scout will begin and manage project construction. Markum will generate enough clean energy for the ERCOT grid to power approximately 32 200 homes. \" Virtual power purchase agreements  VPPAs are a valuable part of our renewable energy master plan and will help us achieve our targets of net zero carbon emissions by 2040 and 100 renewable electricity across our global operations by 2030 \" says Ann Tracy Colgate Palmolive chief sustainability officer in an announcement\n\nScout, Colgate-Palmolive Sign PPA for Texas Solar Farm: Scout Clean Energy a Colorado based renewable energy developer owner and operator has signed a power purchase agreement with Colgate Palmolive for power from Scout' s 209 MW DC Markum Solar Farm near Waco Texas. This fall Scout will begin and manage project construction. Markum will generate enough clean energy for the ERCOT grid to power approximately 32 200 homes. \" Virtual power purchase agreements  VPPAs are a valuable part of our renewable energy master plan and will help us achieve our targets of net zero carbon emissions by 2040 and 100 renewable electricity across our global operations by 2030 \" says Ann Tracy Colgate Palmolive chief sustainability officer in an announcement\n\n. In an IPO prospectus DESRI touted its ability to secure consistent revenue streams from power purchase agreements  PPAs some with terms of more than three decades. Last October saw the company close debt and tax equity financing for a 149MWac PV project in Michigan and sign a PPA for a 160MWac solar plant in Virginia that will help to power Facebook data centres.",
         "yes",
         "Yes, Colgate-Palmolive entered into a power purchase agreement (PPA) with Scout Clean Energy for power from Scout's 209 MW DC Markum Solar Farm near Waco, Texas."
        ],
        [
         "3",
         "What is the status of ZeroAvia's hydrogen fuel cell electric aircraft?",
         "In December, the US startup ZeroAvia announced that its retrofitted 19-seat Dornier 228 hydrogen fuel cell electric aircraft has received permission to fly from the UK Civil Aviation Authority.",
         "['. \" The 19 seat twin engine aircraft has been retrofitted in an engineering testbed configuration to incorporate ZeroAvia\\' s hydrogen electric engine powering the propellor on its left wing operating alongside a single Honeywell TPE 331 stock engine on the right for appropriate redundancy to allow the safe testing of the novel propulsion technology \" ZeroAvia explained in a press release. If the test flights pan out ZeroAvia expects to submit the paperwork for commercial versions of its ZA600 electric aircraft ranging from 9 to 19 seats by the end of 2023. The next step will be the delivery of powertrains by 2025 for which ZeroAvia seems well prepared'\n '. \" The 19 seat twin engine aircraft has been retrofitted in an engineering testbed configuration to incorporate ZeroAvia\\' s hydrogen electric engine powering the propellor on its left wing operating alongside a single Honeywell TPE 331 stock engine on the right for appropriate redundancy to allow the safe testing of the novel propulsion technology \" ZeroAvia explained in a press release. If the test flights pan out ZeroAvia expects to submit the paperwork for commercial versions of its ZA600 electric aircraft ranging from 9 to 19 seats by the end of 2023. The next step will be the delivery of powertrains by 2025 for which ZeroAvia seems well prepared'\n \". Hydrogen fuel cell aircraft have been emerging at a similar pace. In December the US startup ZeroAvia announced that its retrofitted 19 seat Dornier 228 hydrogen fuel cell electric aircraft has received permission to fly from the UK Civil Aviation Authority. The CAA permission slip validates ZeroAvia' s engineering and ground testing regimen opening the gate to commercialization. The Dornier builds on ZeroAvia' s earlier work on a six seat electric aircraft. The initial focus is on a range of 300 miles for the 19 seater. ZeroAvia anticipates bumping that up to 700 miles for 40 80 seats by 2027. The new CAA permit sets the stage for a series of test flights to begin in January with a conventional engine on board for safety during the initial flights\"]",
         ". \" The 19 seat twin engine aircraft has been retrofitted in an engineering testbed configuration to incorporate ZeroAvia' s hydrogen electric engine powering the propellor on its left wing operating alongside a single Honeywell TPE 331 stock engine on the right for appropriate redundancy to allow the safe testing of the novel propulsion technology \" ZeroAvia explained in a press release. If the test flights pan out ZeroAvia expects to submit the paperwork for commercial versions of its ZA600 electric aircraft ranging from 9 to 19 seats by the end of 2023. The next step will be the delivery of powertrains by 2025 for which ZeroAvia seems well prepared\n\n. \" The 19 seat twin engine aircraft has been retrofitted in an engineering testbed configuration to incorporate ZeroAvia' s hydrogen electric engine powering the propellor on its left wing operating alongside a single Honeywell TPE 331 stock engine on the right for appropriate redundancy to allow the safe testing of the novel propulsion technology \" ZeroAvia explained in a press release. If the test flights pan out ZeroAvia expects to submit the paperwork for commercial versions of its ZA600 electric aircraft ranging from 9 to 19 seats by the end of 2023. The next step will be the delivery of powertrains by 2025 for which ZeroAvia seems well prepared\n\n. Hydrogen fuel cell aircraft have been emerging at a similar pace. In December the US startup ZeroAvia announced that its retrofitted 19 seat Dornier 228 hydrogen fuel cell electric aircraft has received permission to fly from the UK Civil Aviation Authority. The CAA permission slip validates ZeroAvia' s engineering and ground testing regimen opening the gate to commercialization. The Dornier builds on ZeroAvia' s earlier work on a six seat electric aircraft. The initial focus is on a range of 300 miles for the 19 seater. ZeroAvia anticipates bumping that up to 700 miles for 40 80 seats by 2027. The new CAA permit sets the stage for a series of test flights to begin in January with a conventional engine on board for safety during the initial flights",
         "ZeroAvia's hydrogen fuel cell electric aircraft, a retrofitted 19-seat Dornier 228, has received permission to fly from the UK Civil Aviation Authority.",
         "Based on the context provided, ZeroAvia's hydrogen fuel cell electric aircraft is currently in the testing phase. The retrofitted 19-seat Dornier 228 has received permission to fly from the UK Civil Aviation Authority (CAA), validating its engineering and ground testing regimen. This sets the stage for a series of test flights, which are expected to begin in January. The aircraft is equipped with a hydrogen-electric engine on the left wing and a conventional Honeywell TPE 331 engine on the right wing for redundancy and safety during the initial flights. If the test flights are successful, ZeroAvia plans to submit paperwork for commercial versions of its ZA600 electric aircraft by the end of 2023."
        ],
        [
         "4",
         "What is the \"Danger Season\"?",
         "As spring turns to summer and the days warm up, the Northern Hemisphere enters the period known as Danger Season, when wildfires, heat waves, and hurricanes, all amplified by climate change, begin to ramp up. In the western United States, the start of Danger Season is marked by the shift from the wintertime wet season to the summertime dry season. While wildfires can and do occur all year round, this shift from cool and wet to warm and dry marks the start of wildfire season in the region.",
         "[\". Over the past 30 40 years wildfire data show a clear signal from climate change As global temperatures have warmed over the past several decades western wildfires have worsened by nearly every metric from the number size and severity of fires to the length of wildfire season. Let' s dive into western wildfires by the numbers. As spring turns to summer and the days warm up the Northern Hemisphere enters the period known as Danger Season when wildfires heat waves and hurricanes all amplified by climate change begin to ramp up. In the western United States the start of Danger Season is marked by the shift from the wintertime wet season to the summertime dry season\"\n \". Over the past 30 40 years wildfire data show a clear signal from climate change As global temperatures have warmed over the past several decades western wildfires have worsened by nearly every metric from the number size and severity of fires to the length of wildfire season. Let' s dive into western wildfires by the numbers. As spring turns to summer and the days warm up the Northern Hemisphere enters the period known as Danger Season when wildfires heat waves and hurricanes all amplified by climate change begin to ramp up. In the western United States the start of Danger Season is marked by the shift from the wintertime wet season to the summertime dry season\"\n '. While wildfires can and do occur all year round this shift from cool and wet to warm and dry marks the start of wildfire season in the region. According to the latest seasonal outlook from the National Interagency Fire Center the exceptionally rainy and snowy conditions the west experienced during the winter of 2022 2023 are translating to below average to normal levels of wildfire risk across most western states at least through August. That said above normal activity is expected for parts of Washington Oregon Idaho and Nevada. Some scientists are also raising concerns that all the young grasses and other plants that have sprung up as a result of the wet weather could quickly turn into dry kindling for wildfires as the dry season wears on into late summer and fall']",
         ". Over the past 30 40 years wildfire data show a clear signal from climate change As global temperatures have warmed over the past several decades western wildfires have worsened by nearly every metric from the number size and severity of fires to the length of wildfire season. Let' s dive into western wildfires by the numbers. As spring turns to summer and the days warm up the Northern Hemisphere enters the period known as Danger Season when wildfires heat waves and hurricanes all amplified by climate change begin to ramp up. In the western United States the start of Danger Season is marked by the shift from the wintertime wet season to the summertime dry season\n\n. Over the past 30 40 years wildfire data show a clear signal from climate change As global temperatures have warmed over the past several decades western wildfires have worsened by nearly every metric from the number size and severity of fires to the length of wildfire season. Let' s dive into western wildfires by the numbers. As spring turns to summer and the days warm up the Northern Hemisphere enters the period known as Danger Season when wildfires heat waves and hurricanes all amplified by climate change begin to ramp up. In the western United States the start of Danger Season is marked by the shift from the wintertime wet season to the summertime dry season\n\n. While wildfires can and do occur all year round this shift from cool and wet to warm and dry marks the start of wildfire season in the region. According to the latest seasonal outlook from the National Interagency Fire Center the exceptionally rainy and snowy conditions the west experienced during the winter of 2022 2023 are translating to below average to normal levels of wildfire risk across most western states at least through August. That said above normal activity is expected for parts of Washington Oregon Idaho and Nevada. Some scientists are also raising concerns that all the young grasses and other plants that have sprung up as a result of the wet weather could quickly turn into dry kindling for wildfires as the dry season wears on into late summer and fall",
         "The \"Danger Season\" is the period in the Northern Hemisphere, beginning in late spring, when wildfires, heat waves, and hurricanes, amplified by climate change, intensify, particularly as the weather shifts from cool and wet to warm and dry conditions.",
         "The \"Danger Season\" refers to the period in the Northern Hemisphere, as spring transitions to summer and the days warm up, when wildfires, heat waves, and hurricanes—amplified by climate change—begin to intensify. In the western United States, it is marked by the shift from the wintertime wet season to the summertime dry season."
        ]
       ],
       "shape": {
        "columns": 6,
        "rows": 5
       }
      },
      "text/html": [
       "<div>\n",
       "<style scoped>\n",
       "    .dataframe tbody tr th:only-of-type {\n",
       "        vertical-align: middle;\n",
       "    }\n",
       "\n",
       "    .dataframe tbody tr th {\n",
       "        vertical-align: top;\n",
       "    }\n",
       "\n",
       "    .dataframe thead th {\n",
       "        text-align: right;\n",
       "    }\n",
       "</style>\n",
       "<table border=\"1\" class=\"dataframe\">\n",
       "  <thead>\n",
       "    <tr style=\"text-align: right;\">\n",
       "      <th></th>\n",
       "      <th>question</th>\n",
       "      <th>relevant_text</th>\n",
       "      <th>relevant_text_llm</th>\n",
       "      <th>retrieved_context</th>\n",
       "      <th>answer</th>\n",
       "      <th>answer_llm</th>\n",
       "    </tr>\n",
       "  </thead>\n",
       "  <tbody>\n",
       "    <tr>\n",
       "      <th>0</th>\n",
       "      <td>What is the EU’s Green Deal Industrial Plan?</td>\n",
       "      <td>The European counterpart to the US Inflation R...</td>\n",
       "      <td>[European Commission introduces Green Deal Ind...</td>\n",
       "      <td>European Commission introduces Green Deal Indu...</td>\n",
       "      <td>The EU’s Green Deal Industrial Plan aims to en...</td>\n",
       "      <td>The EU’s Green Deal Industrial Plan is a strat...</td>\n",
       "    </tr>\n",
       "    <tr>\n",
       "      <th>1</th>\n",
       "      <td>When did the cooperation between GM and Honda ...</td>\n",
       "      <td>What caught our eye was a new hookup between G...</td>\n",
       "      <td>[. The Army demonstration was built on GM' s P...</td>\n",
       "      <td>. The Army demonstration was built on GM' s Pr...</td>\n",
       "      <td>July 2013</td>\n",
       "      <td>The cooperation between GM and Honda on fuel c...</td>\n",
       "    </tr>\n",
       "    <tr>\n",
       "      <th>2</th>\n",
       "      <td>Did Colgate-Palmolive enter into PPA agreement...</td>\n",
       "      <td>Scout Clean Energy, a Colorado-based renewable...</td>\n",
       "      <td>[Scout, Colgate-Palmolive Sign PPA for Texas S...</td>\n",
       "      <td>Scout, Colgate-Palmolive Sign PPA for Texas So...</td>\n",
       "      <td>yes</td>\n",
       "      <td>Yes, Colgate-Palmolive entered into a power pu...</td>\n",
       "    </tr>\n",
       "    <tr>\n",
       "      <th>3</th>\n",
       "      <td>What is the status of ZeroAvia's hydrogen fuel...</td>\n",
       "      <td>In December, the US startup ZeroAvia announced...</td>\n",
       "      <td>[. \" The 19 seat twin engine aircraft has been...</td>\n",
       "      <td>. \" The 19 seat twin engine aircraft has been ...</td>\n",
       "      <td>ZeroAvia's hydrogen fuel cell electric aircraf...</td>\n",
       "      <td>Based on the context provided, ZeroAvia's hydr...</td>\n",
       "    </tr>\n",
       "    <tr>\n",
       "      <th>4</th>\n",
       "      <td>What is the \"Danger Season\"?</td>\n",
       "      <td>As spring turns to summer and the days warm up...</td>\n",
       "      <td>[. Over the past 30 40 years wildfire data sho...</td>\n",
       "      <td>. Over the past 30 40 years wildfire data show...</td>\n",
       "      <td>The \"Danger Season\" is the period in the North...</td>\n",
       "      <td>The \"Danger Season\" refers to the period in th...</td>\n",
       "    </tr>\n",
       "  </tbody>\n",
       "</table>\n",
       "</div>"
      ],
      "text/plain": [
       "                                            question  \\\n",
       "0       What is the EU’s Green Deal Industrial Plan?   \n",
       "1  When did the cooperation between GM and Honda ...   \n",
       "2  Did Colgate-Palmolive enter into PPA agreement...   \n",
       "3  What is the status of ZeroAvia's hydrogen fuel...   \n",
       "4                       What is the \"Danger Season\"?   \n",
       "\n",
       "                                       relevant_text  \\\n",
       "0  The European counterpart to the US Inflation R...   \n",
       "1  What caught our eye was a new hookup between G...   \n",
       "2  Scout Clean Energy, a Colorado-based renewable...   \n",
       "3  In December, the US startup ZeroAvia announced...   \n",
       "4  As spring turns to summer and the days warm up...   \n",
       "\n",
       "                                   relevant_text_llm  \\\n",
       "0  [European Commission introduces Green Deal Ind...   \n",
       "1  [. The Army demonstration was built on GM' s P...   \n",
       "2  [Scout, Colgate-Palmolive Sign PPA for Texas S...   \n",
       "3  [. \" The 19 seat twin engine aircraft has been...   \n",
       "4  [. Over the past 30 40 years wildfire data sho...   \n",
       "\n",
       "                                   retrieved_context  \\\n",
       "0  European Commission introduces Green Deal Indu...   \n",
       "1  . The Army demonstration was built on GM' s Pr...   \n",
       "2  Scout, Colgate-Palmolive Sign PPA for Texas So...   \n",
       "3  . \" The 19 seat twin engine aircraft has been ...   \n",
       "4  . Over the past 30 40 years wildfire data show...   \n",
       "\n",
       "                                              answer  \\\n",
       "0  The EU’s Green Deal Industrial Plan aims to en...   \n",
       "1                                          July 2013   \n",
       "2                                                yes   \n",
       "3  ZeroAvia's hydrogen fuel cell electric aircraf...   \n",
       "4  The \"Danger Season\" is the period in the North...   \n",
       "\n",
       "                                          answer_llm  \n",
       "0  The EU’s Green Deal Industrial Plan is a strat...  \n",
       "1  The cooperation between GM and Honda on fuel c...  \n",
       "2  Yes, Colgate-Palmolive entered into a power pu...  \n",
       "3  Based on the context provided, ZeroAvia's hydr...  \n",
       "4  The \"Danger Season\" refers to the period in th...  "
      ]
     },
     "execution_count": 3,
     "metadata": {},
     "output_type": "execute_result"
    }
   ],
   "source": [
    "df_evaluierung.head()"
   ]
  },
  {
   "cell_type": "code",
   "execution_count": 7,
   "metadata": {},
   "outputs": [],
   "source": [
    "# Initialisiere Embedding-Modell\n",
    "embedding_model = AzureOpenAIEmbeddings(\n",
    "\tazure_endpoint=AZURE_OPENAI_ENDPOINT,\n",
    "\tapi_key=AZURE_OPENAI_API_KEY,\n",
    "\tapi_version=\"2023-05-15\",\n",
    "\tdeployment=\"text-embedding-ada-002\"\n",
    ")"
   ]
  },
  {
   "cell_type": "code",
   "execution_count": 10,
   "metadata": {},
   "outputs": [
    {
     "name": "stdout",
     "output_type": "stream",
     "text": [
      "Embedding question...\n"
     ]
    },
    {
     "name": "stderr",
     "output_type": "stream",
     "text": [
      "Embedding batches: 100%|██████████| 1/1 [00:00<00:00,  2.07it/s]\n"
     ]
    },
    {
     "name": "stdout",
     "output_type": "stream",
     "text": [
      "Embedding answer...\n"
     ]
    },
    {
     "name": "stderr",
     "output_type": "stream",
     "text": [
      "Embedding batches: 100%|██████████| 1/1 [00:00<00:00,  6.35it/s]\n"
     ]
    },
    {
     "name": "stdout",
     "output_type": "stream",
     "text": [
      "Embedding answer_llm...\n"
     ]
    },
    {
     "name": "stderr",
     "output_type": "stream",
     "text": [
      "Embedding batches: 100%|██████████| 1/1 [00:00<00:00,  4.10it/s]\n"
     ]
    },
    {
     "name": "stdout",
     "output_type": "stream",
     "text": [
      "Embedding retrieved_context...\n"
     ]
    },
    {
     "name": "stderr",
     "output_type": "stream",
     "text": [
      "Embedding batches: 100%|██████████| 1/1 [00:00<00:00,  2.69it/s]\n"
     ]
    }
   ],
   "source": [
    "# 3. Liste der Felder, die eingebettet werden sollen\n",
    "fields_to_embed = ['question', 'answer', 'answer_llm', 'retrieved_context']\n",
    "\n",
    "# 4. Funktion zum Einbetten mit Fortschrittsanzeige\n",
    "def embed_texts(texts):\n",
    "    embeddings = []\n",
    "    batch_size = 50  # anpassen je nach API-Limit\n",
    "    for i in tqdm(range(0, len(texts), batch_size), desc=\"Embedding batches\"):\n",
    "        batch = texts[i:i+batch_size]\n",
    "        batch_embeddings = embedding_model.embed_documents(batch)\n",
    "        embeddings.extend(batch_embeddings)\n",
    "    return embeddings\n",
    "\n",
    "# 5. Einbetten für jedes Feld\n",
    "df_embedded = df_evaluierung.copy()  # wichtig: Original nicht überschreiben\n",
    "\n",
    "for field in fields_to_embed:\n",
    "    print(f\"Embedding {field}...\")\n",
    "    texts = df_embedded[field].astype(str).tolist()  # sicherstellen, dass es Strings sind\n",
    "    df_embedded[field + '_embedding'] = embed_texts(texts)\n",
    "\n",
    "# 6. als Parameter speichern\n",
    "output = df_embedded\n"
   ]
  }
 ],
 "metadata": {
  "kernelspec": {
   "display_name": ".venv",
   "language": "python",
   "name": "python3"
  },
  "language_info": {
   "codemirror_mode": {
    "name": "ipython",
    "version": 3
   },
   "file_extension": ".py",
   "mimetype": "text/x-python",
   "name": "python",
   "nbconvert_exporter": "python",
   "pygments_lexer": "ipython3",
   "version": "3.12.7"
  }
 },
 "nbformat": 4,
 "nbformat_minor": 2
}
