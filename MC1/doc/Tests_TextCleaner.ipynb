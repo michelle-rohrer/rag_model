{
 "cells": [
  {
   "cell_type": "markdown",
   "metadata": {},
   "source": [
    "# Test Notebook für Funktionen und komplexe Analysen"
   ]
  },
  {
   "cell_type": "code",
   "execution_count": 1,
   "metadata": {
    "ExecuteTime": {
     "end_time": "2025-04-02T20:47:54.707051Z",
     "start_time": "2025-04-02T20:47:51.959911Z"
    }
   },
   "outputs": [],
   "source": [
    "import pandas as pd\n",
    "import numpy as np\n",
    "import matplotlib.pyplot as plt\n",
    "\n",
    "import langdetect\n",
    "import re\n",
    "\n",
    "from collections import Counter\n",
    "from collections import OrderedDict\n",
    "from langdetect import detect\n",
    "\n",
    "import torch\n",
    "\n",
    "import sys\n",
    "import os\n",
    "import warnings\n",
    "warnings.filterwarnings('ignore')\n",
    "sys.path.append(os.path.abspath(\"../\"))\n",
    "import src.utilities as u\n",
    "import src.plots as p\n",
    "import src.constants as c\n",
    "c_stopwords = c.custom_stopwords\n",
    "\n",
    "from src.utilities import TextCleaner\n",
    "from src.credentials import AZURE_OPENAI_API_KEY, AZURE_OPENAI_ENDPOINT\n",
    "from langchain.text_splitter import RecursiveCharacterTextSplitter\n",
    "from langchain_community.vectorstores import Chroma\n",
    "from langchain_openai import AzureOpenAIEmbeddings\n",
    "\n",
    "\n",
    "from langchain.vectorstores import Chroma\n",
    "from langchain.embeddings import OpenAIEmbeddings\n",
    "\n"
   ]
  },
  {
   "cell_type": "markdown",
   "metadata": {},
   "source": [
    "### Daten Laden\n",
    "\n",
    "Die Daten, welche wir aus einer `.csv` Datei laden, welche von einer Website stammen. Mit diesen Daten möchten wir später unsere Fragen beantworten."
   ]
  },
  {
   "cell_type": "markdown",
   "metadata": {},
   "source": [
    "#### Datenbeschreibung\n",
    "- **id** Unique ID des Artikels\n",
    "- **title** Title des Artikels\n",
    "- **date** Erscheinungsdatum des Artikels\n",
    "- **author** Name des Autors\n",
    "- **content** Inhalt des Artikels\n",
    "- **domain** von wo der Artikel kommt\n",
    "- **url** Webadresse (wie man den Artikel finden kann)"
   ]
  },
  {
   "cell_type": "code",
   "execution_count": 2,
   "metadata": {
    "ExecuteTime": {
     "end_time": "2025-04-02T20:47:55.354755Z",
     "start_time": "2025-04-02T20:47:54.707051Z"
    }
   },
   "outputs": [],
   "source": [
    "file_path = \"../data_mc1/\"\n",
    "file_name_train = 'cleantech_media_dataset_v3_2024-10-28.csv'\n",
    "# full_path = os.path.join(file_path, file_name_train)\n",
    "\n",
    "column_names = [\"id\", \"title\", \"date\", \"author\", \"content\", \"domain\", \"url\"]\n",
    "# df_train = pd.read_csv(full_path, delimiter=\",\", names=column_names, skiprows=1, encoding=\"utf-8\")\n",
    "df_train = pd.read_csv(file_path+file_name_train, delimiter=\",\", names=column_names, skiprows=1, encoding=\"utf-8\")"
   ]
  },
  {
   "cell_type": "markdown",
   "metadata": {},
   "source": [
    "Der Spalte **author ist vollständig fehlend**, nach Ansehen des Artikels ist schnell ersichtlich, dass dieser über Webscraping aus den Artikeln extrahiert werden könnte. Da aber in den Evaluierungsdaten keine Frage bezüglich des Authors vorhanden ist wird diese nun entfernt. Allerdings könnte diese Information Wert liefern im Bezug auf Ähnlichkeitsberechnung von Inhalten der Artikeln, dies könnte später erneut überprüft werden. **Vorerst wird die Spalte author erntfernt.**"
   ]
  },
  {
   "cell_type": "code",
   "execution_count": 3,
   "metadata": {
    "ExecuteTime": {
     "end_time": "2025-04-02T20:47:55.883363Z",
     "start_time": "2025-04-02T20:47:55.876275Z"
    }
   },
   "outputs": [],
   "source": [
    "df_train = df_train.drop(columns=[\"author\"])"
   ]
  },
  {
   "cell_type": "markdown",
   "metadata": {},
   "source": [
    "Datumsformat erstellen"
   ]
  },
  {
   "cell_type": "code",
   "execution_count": 4,
   "metadata": {
    "ExecuteTime": {
     "end_time": "2025-04-02T20:47:56.632900Z",
     "start_time": "2025-04-02T20:47:56.624743Z"
    }
   },
   "outputs": [],
   "source": [
    "# Datentypen korrigieren\n",
    "df_train[\"date\"] = pd.to_datetime(df_train[\"date\"], errors=\"coerce\")  # Falls ungültige Datumswerte vorhanden\n",
    "# df_train[\"title\"] = df_train[\"title\"].astype(str)\n",
    "# df_train[\"content\"] = df_train[\"content\"].astype(str)"
   ]
  },
  {
   "cell_type": "code",
   "execution_count": 5,
   "metadata": {},
   "outputs": [],
   "source": [
    "def fake_list_to_text(text):\n",
    "    import re\n",
    "    if not isinstance(text, str):\n",
    "        return text\n",
    "    if text.count(\"',\") >= 1 and \"'\" in text:\n",
    "        parts = re.split(r\"\\s*,\\s*\", text.strip(\"[]\"))\n",
    "        parts = [p.strip(\" '\\\"\\n\") for p in parts if p.strip()]\n",
    "        return \" \".join(parts)\n",
    "    return text"
   ]
  },
  {
   "cell_type": "code",
   "execution_count": 6,
   "metadata": {},
   "outputs": [
    {
     "data": {
      "text/html": [
       "<div>\n",
       "<style scoped>\n",
       "    .dataframe tbody tr th:only-of-type {\n",
       "        vertical-align: middle;\n",
       "    }\n",
       "\n",
       "    .dataframe tbody tr th {\n",
       "        vertical-align: top;\n",
       "    }\n",
       "\n",
       "    .dataframe thead th {\n",
       "        text-align: right;\n",
       "    }\n",
       "</style>\n",
       "<table border=\"1\" class=\"dataframe\">\n",
       "  <thead>\n",
       "    <tr style=\"text-align: right;\">\n",
       "      <th></th>\n",
       "      <th>id</th>\n",
       "      <th>title</th>\n",
       "      <th>date</th>\n",
       "      <th>content</th>\n",
       "      <th>domain</th>\n",
       "      <th>url</th>\n",
       "    </tr>\n",
       "  </thead>\n",
       "  <tbody>\n",
       "    <tr>\n",
       "      <th>0</th>\n",
       "      <td>93320</td>\n",
       "      <td>XPeng Delivered ~100,000 Vehicles In 2021</td>\n",
       "      <td>2022-01-02</td>\n",
       "      <td>Chinese automotive startup XPeng has shown one...</td>\n",
       "      <td>cleantechnica</td>\n",
       "      <td>https://cleantechnica.com/2022/01/02/xpeng-del...</td>\n",
       "    </tr>\n",
       "    <tr>\n",
       "      <th>1</th>\n",
       "      <td>93321</td>\n",
       "      <td>Green Hydrogen: Drop In Bucket Or Big Splash?</td>\n",
       "      <td>2022-01-02</td>\n",
       "      <td>Sinopec has laid plans to build the largest gr...</td>\n",
       "      <td>cleantechnica</td>\n",
       "      <td>https://cleantechnica.com/2022/01/02/its-a-gre...</td>\n",
       "    </tr>\n",
       "    <tr>\n",
       "      <th>2</th>\n",
       "      <td>98159</td>\n",
       "      <td>World’ s largest floating PV plant goes online...</td>\n",
       "      <td>2022-01-03</td>\n",
       "      <td>Huaneng Power International has switched on a ...</td>\n",
       "      <td>pv-magazine</td>\n",
       "      <td>https://www.pv-magazine.com/2022/01/03/worlds-...</td>\n",
       "    </tr>\n",
       "    <tr>\n",
       "      <th>3</th>\n",
       "      <td>98158</td>\n",
       "      <td>Iran wants to deploy 10 GW of renewables over ...</td>\n",
       "      <td>2022-01-03</td>\n",
       "      <td>According to the Iranian authorities there are...</td>\n",
       "      <td>pv-magazine</td>\n",
       "      <td>https://www.pv-magazine.com/2022/01/03/iran-wa...</td>\n",
       "    </tr>\n",
       "    <tr>\n",
       "      <th>4</th>\n",
       "      <td>31128</td>\n",
       "      <td>Eastern Interconnection Power Grid Said ‘ Bein...</td>\n",
       "      <td>2022-01-03</td>\n",
       "      <td>Sign in to get the best natural gas news and d...</td>\n",
       "      <td>naturalgasintel</td>\n",
       "      <td>https://www.naturalgasintel.com/eastern-interc...</td>\n",
       "    </tr>\n",
       "  </tbody>\n",
       "</table>\n",
       "</div>"
      ],
      "text/plain": [
       "      id                                              title       date  \\\n",
       "0  93320          XPeng Delivered ~100,000 Vehicles In 2021 2022-01-02   \n",
       "1  93321      Green Hydrogen: Drop In Bucket Or Big Splash? 2022-01-02   \n",
       "2  98159  World’ s largest floating PV plant goes online... 2022-01-03   \n",
       "3  98158  Iran wants to deploy 10 GW of renewables over ... 2022-01-03   \n",
       "4  31128  Eastern Interconnection Power Grid Said ‘ Bein... 2022-01-03   \n",
       "\n",
       "                                             content           domain  \\\n",
       "0  Chinese automotive startup XPeng has shown one...    cleantechnica   \n",
       "1  Sinopec has laid plans to build the largest gr...    cleantechnica   \n",
       "2  Huaneng Power International has switched on a ...      pv-magazine   \n",
       "3  According to the Iranian authorities there are...      pv-magazine   \n",
       "4  Sign in to get the best natural gas news and d...  naturalgasintel   \n",
       "\n",
       "                                                 url  \n",
       "0  https://cleantechnica.com/2022/01/02/xpeng-del...  \n",
       "1  https://cleantechnica.com/2022/01/02/its-a-gre...  \n",
       "2  https://www.pv-magazine.com/2022/01/03/worlds-...  \n",
       "3  https://www.pv-magazine.com/2022/01/03/iran-wa...  \n",
       "4  https://www.naturalgasintel.com/eastern-interc...  "
      ]
     },
     "execution_count": 6,
     "metadata": {},
     "output_type": "execute_result"
    }
   ],
   "source": [
    "df_train[\"content\"] = df_train[\"content\"].apply(fake_list_to_text)\n",
    "df_train.head()"
   ]
  },
  {
   "cell_type": "code",
   "execution_count": 7,
   "metadata": {},
   "outputs": [],
   "source": [
    "# id_list = [42253,\n",
    "# 22248,\n",
    "# 105173,\n",
    "# 31316,\n",
    "# 43019,\n",
    "# 31297,\n",
    "# 31273,\n",
    "# 31163,\n",
    "# 31158,\n",
    "# 31140,\n",
    "# 126129,\n",
    "# 6941]\n",
    "# df_train = df_train[df_train[\"id\"].isin(id_list)]"
   ]
  },
  {
   "cell_type": "code",
   "execution_count": 8,
   "metadata": {},
   "outputs": [],
   "source": [
    "# df_train"
   ]
  },
  {
   "cell_type": "code",
   "execution_count": 9,
   "metadata": {},
   "outputs": [],
   "source": [
    "# cleaner = TextCleaner(level=\"safe\")\n",
    "# data_cleaned = cleaner.clean_text_column(df_train, column=\"content\", new_column=\"content_cleaned\")\n"
   ]
  },
  {
   "cell_type": "code",
   "execution_count": 10,
   "metadata": {},
   "outputs": [],
   "source": [
    "cleaner = TextCleaner(level=\"risky\")\n",
    "data_cleaned = cleaner.clean_text_column(df_train, column=\"content\", new_column=\"content_cleaned\")"
   ]
  },
  {
   "cell_type": "code",
   "execution_count": 11,
   "metadata": {},
   "outputs": [],
   "source": [
    "# cleaner = TextCleaner(level=\"dangerous\")\n",
    "# data_cleaned = cleaner.clean_text_column(df_train, column=\"content\", new_column=\"content_cleaned\")"
   ]
  },
  {
   "cell_type": "code",
   "execution_count": 12,
   "metadata": {},
   "outputs": [
    {
     "data": {
      "text/html": [
       "<style type=\"text/css\">\n",
       "#T_322bb_row0_col0, #T_322bb_row0_col1, #T_322bb_row1_col0, #T_322bb_row1_col1, #T_322bb_row2_col0, #T_322bb_row2_col1, #T_322bb_row3_col0, #T_322bb_row3_col1, #T_322bb_row4_col0, #T_322bb_row4_col1 {\n",
       "  white-space: pre-wrap;\n",
       "  max-width: 500px;\n",
       "  font-family: monospace;\n",
       "}\n",
       "</style>\n",
       "<table id=\"T_322bb\">\n",
       "  <thead>\n",
       "    <tr>\n",
       "      <th class=\"blank level0\" >&nbsp;</th>\n",
       "      <th id=\"T_322bb_level0_col0\" class=\"col_heading level0 col0\" >content</th>\n",
       "      <th id=\"T_322bb_level0_col1\" class=\"col_heading level0 col1\" >content_cleaned</th>\n",
       "    </tr>\n",
       "  </thead>\n",
       "  <tbody>\n",
       "    <tr>\n",
       "      <th id=\"T_322bb_level0_row0\" class=\"row_heading level0 row0\" >0</th>\n",
       "      <td id=\"T_322bb_row0_col0\" class=\"data row0 col0\" >Chinese automotive startup XPeng has shown one of \n",
       "the most dramatic auto production ramp-ups in hist\n",
       "ory and the good news is it only produces 100% sma\n",
       "rt electric vehicles ( EVs). At a mere 7 years of \n",
       "age and just a few years after launching its first\n",
       "...</td>\n",
       "      <td id=\"T_322bb_row0_col1\" class=\"data row0 col1\" >Chinese automotive startup XPeng has shown one of \n",
       "the most dramatic auto production ramp ups in hist\n",
       "ory and the good news is it only produces 100 smar\n",
       "t electric vehicles  EVs. At a mere 7 years of age\n",
       " and just a few years after launching its first ve\n",
       "...</td>\n",
       "    </tr>\n",
       "    <tr>\n",
       "      <th id=\"T_322bb_level0_row1\" class=\"row_heading level0 row1\" >1</th>\n",
       "      <td id=\"T_322bb_row1_col0\" class=\"data row1 col0\" >Sinopec has laid plans to build the largest green \n",
       "hydrogen production facility in the world but inte\n",
       "rest in fossil-sourced hydrogen continues apace. S\n",
       "kepticism abounds over the green hydrogen field an\n",
       "d yet leading players on the global energy stage s\n",
       "...</td>\n",
       "      <td id=\"T_322bb_row1_col1\" class=\"data row1 col1\" >Sinopec has laid plans to build the largest green \n",
       "hydrogen production facility in the world but inte\n",
       "rest in fossil sourced hydrogen continues apace. S\n",
       "kepticism abounds over the green hydrogen field an\n",
       "d yet leading players on the global energy stage s\n",
       "...</td>\n",
       "    </tr>\n",
       "    <tr>\n",
       "      <th id=\"T_322bb_level0_row2\" class=\"row_heading level0 row2\" >2</th>\n",
       "      <td id=\"T_322bb_row2_col0\" class=\"data row2 col0\" >Huaneng Power International has switched on a 320 \n",
       "MW floating PV array in China’ s Shandong province\n",
       ". It deployed the plant in two phases on a reservo\n",
       "ir near its 2.65 GW Dezhou thermal power station. \n",
       "Huaneng Power International ( HPI) has completed t\n",
       "...</td>\n",
       "      <td id=\"T_322bb_row2_col1\" class=\"data row2 col1\" >Huaneng Power International has switched on a 320 \n",
       "MW floating PV array in China' s Shandong province\n",
       ". It deployed the plant in two phases on a reservo\n",
       "ir near its 2.65 GW Dezhou thermal power station. \n",
       "Huaneng Power International  HPI has completed the\n",
       "...</td>\n",
       "    </tr>\n",
       "    <tr>\n",
       "      <th id=\"T_322bb_level0_row3\" class=\"row_heading level0 row3\" >3</th>\n",
       "      <td id=\"T_322bb_row3_col0\" class=\"data row3 col0\" >According to the Iranian authorities there are cur\n",
       "rently more than 80GW of renewable energy projects\n",
       " that were submitted by private investors for revi\n",
       "ew. Iran had around 414MW of installed solar power\n",
       " at the end of 2020. The Iranian Energy Ministry a\n",
       "...</td>\n",
       "      <td id=\"T_322bb_row3_col1\" class=\"data row3 col1\" >According to the Iranian authorities there are cur\n",
       "rently more than 80GW of renewable energy projects\n",
       " that were submitted by private investors for revi\n",
       "ew. Iran had around 414MW of installed solar power\n",
       " at the end of 2020. The Iranian Energy Ministry a\n",
       "...</td>\n",
       "    </tr>\n",
       "    <tr>\n",
       "      <th id=\"T_322bb_level0_row4\" class=\"row_heading level0 row4\" >4</th>\n",
       "      <td id=\"T_322bb_row4_col0\" class=\"data row4 col0\" >Sign in to get the best natural gas news and data.\n",
       " Follow the topics you want and receive the daily \n",
       "emails. Your email address * Your password * Remem\n",
       "ber me Continue Reset password Featured Content Ne\n",
       "ws & Data Services Client Support Daily GPI Infras\n",
       "...</td>\n",
       "      <td id=\"T_322bb_row4_col1\" class=\"data row4 col1\" >Follow the topics you want and   However the plann\n",
       "ers known as the Eastern Interconnection Planning \n",
       "Collaborative  EIPC added a cautionary note. EIPC'\n",
       " s Zach Smith executive committee chairman said pl\n",
       "anners concluded that \" the Eastern Interconnectio\n",
       "...</td>\n",
       "    </tr>\n",
       "  </tbody>\n",
       "</table>\n"
      ],
      "text/plain": [
       "<pandas.io.formats.style.Styler at 0x2233e64bad0>"
      ]
     },
     "execution_count": 12,
     "metadata": {},
     "output_type": "execute_result"
    }
   ],
   "source": [
    "data_cleaned_compare = data_cleaned[[\"content\", \"content_cleaned\"]].copy()\n",
    "u.styled_text(data_cleaned_compare.head(), max_width=500)"
   ]
  },
  {
   "cell_type": "code",
   "execution_count": 13,
   "metadata": {},
   "outputs": [
    {
     "data": {
      "text/html": [
       "<style type=\"text/css\">\n",
       "#T_38eb1_row0_col0, #T_38eb1_row0_col1, #T_38eb1_row0_col2, #T_38eb1_row0_col3, #T_38eb1_row0_col4, #T_38eb1_row0_col5, #T_38eb1_row0_col6 {\n",
       "  white-space: pre-wrap;\n",
       "  max-width: 300px;\n",
       "  word-wrap: break-word;\n",
       "}\n",
       "</style>\n",
       "<table id=\"T_38eb1\">\n",
       "  <thead>\n",
       "    <tr>\n",
       "      <th class=\"blank level0\" >&nbsp;</th>\n",
       "      <th id=\"T_38eb1_level0_col0\" class=\"col_heading level0 col0\" >id</th>\n",
       "      <th id=\"T_38eb1_level0_col1\" class=\"col_heading level0 col1\" >title</th>\n",
       "      <th id=\"T_38eb1_level0_col2\" class=\"col_heading level0 col2\" >date</th>\n",
       "      <th id=\"T_38eb1_level0_col3\" class=\"col_heading level0 col3\" >content</th>\n",
       "      <th id=\"T_38eb1_level0_col4\" class=\"col_heading level0 col4\" >domain</th>\n",
       "      <th id=\"T_38eb1_level0_col5\" class=\"col_heading level0 col5\" >url</th>\n",
       "      <th id=\"T_38eb1_level0_col6\" class=\"col_heading level0 col6\" >content_cleaned</th>\n",
       "    </tr>\n",
       "  </thead>\n",
       "  <tbody>\n",
       "    <tr>\n",
       "      <th id=\"T_38eb1_level0_row0\" class=\"row_heading level0 row0\" >0</th>\n",
       "      <td id=\"T_38eb1_row0_col0\" class=\"data row0 col0\" >93320</td>\n",
       "      <td id=\"T_38eb1_row0_col1\" class=\"data row0 col1\" >XPeng Delivered ~100,000 Vehicles In 2021</td>\n",
       "      <td id=\"T_38eb1_row0_col2\" class=\"data row0 col2\" >2022-01-02 00:00:00</td>\n",
       "      <td id=\"T_38eb1_row0_col3\" class=\"data row0 col3\" >Chinese automotive startup XPeng has shown one of the most dramatic auto production ramp-ups in history and the good news is it only produces 100% smart electric vehicles ( EVs). At a mere 7 years of age and just a few years after launching its first vehicle ( the XPeng G3 went on sales in December 2018) XPeng has wrapped up a year of sales totaling almost 100 000. In 2021 XPeng delivered 98 155 smart EVs a 263% year-over-year increase. In December 16 000 vehicles were delivered a 181% year-over-year increase compared to December 2020. There were 41 751 vehicles delivered in Q4 2021 which was a 222% year-over-year increase. Reinforcing how impressive the 98 155 delivery figure for 2021 is at the end of the year XPeng reached just 137 953 cumulative deliveries. All the more impressive XPeng’ s monthly delivery target is 15 000 vehicles and December was the second month in a row that was surpassed — and that’ s despite the global automotive chip shortage and other supply chain challenges. In the case of the P7 deliveries were up 102%. GS deliveries were up 75%. The P5 was not on the market one year ago but its sales did increase 134% month over month. XPeng also noted that its broader charging and sales network in China has been growing “ rapidly. ” It had “ 661 branded supercharging stations across 228 cities and 311 physical retail stores in operation across 121 cities as of the end of November 2021. ” All in all XPeng’ s growth seems to be rolling out as the company hoped and planned or even better. It’ s quite an uplifting sight to see another pure EV company scaling up production rapidly and achieving great sales success at a young age. Of course the reference company need not be named and we need not compare the two or pretend XPeng should exactly follow Tesla’ s ( whoops) path. However the point is that we are getting more examples of pure EV companies achieving great successes. Zach is tryin ' to help society help itself one word at a time. He spends most of his time here on CleanTechnica as its director chief editor and CEO. Zach is recognized globally as an electric vehicle solar energy and energy storage expert. He has presented about cleantech at conferences in India the UAE Ukraine Poland Germany the Netherlands the USA Canada and Curaçao. Zach has long-term investments in Tesla [ TSLA ] NIO [ NIO ] Xpeng [ XPEV ] Ford [ F ] ChargePoint [ CHPT ] Amazon [ AMZN ] Piedmont Lithium [ PLL ] Lithium Americas [ LAC ] Albemarle Corporation [ ALB ] Nouveau Monde Graphite [ NMGRF ] Talon Metals [ TLOFF ] Arclight Clean Transition Corp [ ACTC ] and Starbucks [ SBUX ]. But he does not offer ( explicitly or implicitly) investment advice of any sort. Advertise with CleanTechnica to get your company in front of millions of monthly readers. Rethink Energy has made the prediction that some countries’ entire automotive fleets will be electric within the next decade. Policy changes in various countries... Tesla hits the UK with its strongest ever May helping lift the plugin electric vehicle market share to 23.1% up from 18.3% year on... The auto market in Germany saw plugin EVs take 22.9% share in May 2023 down from 25.3% year on year. Full electrics gained share ... Recently we did a story about the 2023 NADA convention and goat roping in Dallas where Slate correspondent Alexander Sammon got a chance to... Copyright © 2023 CleanTechnica. The content produced by this site is for entertainment purposes only. Opinions and comments published on this site may not be sanctioned by and do not necessarily represent the views of CleanTechnica its owners sponsors affiliates or subsidiaries.</td>\n",
       "      <td id=\"T_38eb1_row0_col4\" class=\"data row0 col4\" >cleantechnica</td>\n",
       "      <td id=\"T_38eb1_row0_col5\" class=\"data row0 col5\" >https://cleantechnica.com/2022/01/02/xpeng-delivered-100000-vehicles-in-2021/</td>\n",
       "      <td id=\"T_38eb1_row0_col6\" class=\"data row0 col6\" >Chinese automotive startup XPeng has shown one of the most dramatic auto production ramp ups in history and the good news is it only produces 100 smart electric vehicles  EVs. At a mere 7 years of age and just a few years after launching its first vehicle  the XPeng G3 went on sales in December 2018 XPeng has wrapped up a year of sales totaling almost 100 000. In 2021 XPeng delivered 98 155 smart EVs a 263 year over year increase. In December 16 000 vehicles were delivered a 181 year over year increase compared to December 2020. There were 41 751 vehicles delivered in Q4 2021 which was a 222 year over year increase. Reinforcing how impressive the 98 155 delivery figure for 2021 is at the end of the year XPeng reached just 137 953 cumulative deliveries. All the more impressive XPeng' s monthly delivery target is 15 000 vehicles and December was the second month in a row that was surpassed  and that' s despite the global automotive chip shortage and other supply chain challenges. In the case of the P7 deliveries were up 102. GS deliveries were up 75. The P5 was not on the market one year ago but its sales did increase 134 month over month. XPeng also noted that its broader charging and sales network in China has been growing \" rapidly. \" It had \" 661 branded supercharging stations across 228 cities and 311 physical retail stores in operation across 121 cities as of the end of November 2021. \" All in all XPeng' s growth seems to be rolling out as the company hoped and planned or even better. It' s quite an uplifting sight to see another pure EV company scaling up production rapidly and achieving great sales success at a young age. Of course the reference company need not be named and we need not compare the two or pretend XPeng should exactly follow Tesla' s  whoops path. However the point is that we are getting more examples of pure EV companies achieving great successes. Zach is tryin ' to help society help itself one word at a time. He spends most of his time here on CleanTechnica as its director chief editor and CEO. Zach is recognized globally as an electric vehicle solar energy and energy storage expert. He has presented about cleantech at conferences in India the UAE Ukraine Poland Germany the Netherlands the USA Canada and Curaao. Zach has long term investments in Tesla  TSLA  NIO  NIO  Xpeng  XPEV  Ford  F  ChargePoint  CHPT  Amazon  AMZN  Piedmont Lithium  PLL  Lithium Americas  LAC  Albemarle Corporation  ALB  Nouveau Monde Graphite  NMGRF  Talon Metals  TLOFF  Arclight Clean Transition Corp  ACTC  and Starbucks  SBUX . But he does not offer  explicitly or implicitly investment advice of any sort. Rethink Energy has made the prediction that some countries' entire automotive fleets will be electric within the next decade. Policy changes in various countries... Tesla hits the UK with its strongest ever May helping lift the plugin electric vehicle market share to 23.1 up from 18.3 year on... The auto market in Germany saw plugin EVs take 22.9 share in May 2023 down from 25.3 year on year. Full electrics gained share ... Recently we did a story about the 2023 NADA convention and goat roping in Dallas where Slate correspondent Alexander Sammon got a chance to... .</td>\n",
       "    </tr>\n",
       "  </tbody>\n",
       "</table>\n"
      ],
      "text/plain": [
       "<pandas.io.formats.style.Styler at 0x2233e610650>"
      ]
     },
     "execution_count": 13,
     "metadata": {},
     "output_type": "execute_result"
    }
   ],
   "source": [
    "u.print_full_text(data_cleaned.head(1))"
   ]
  },
  {
   "cell_type": "code",
   "execution_count": 14,
   "metadata": {},
   "outputs": [],
   "source": [
    "# data_cleaned = u.clean_url_column(data_cleaned, 'url')"
   ]
  },
  {
   "cell_type": "code",
   "execution_count": 15,
   "metadata": {},
   "outputs": [
    {
     "data": {
      "text/html": [
       "<style type=\"text/css\">\n",
       "#T_037f7_row0_col0, #T_037f7_row0_col1, #T_037f7_row0_col2, #T_037f7_row0_col3, #T_037f7_row0_col4, #T_037f7_row0_col5, #T_037f7_row0_col6 {\n",
       "  white-space: pre-wrap;\n",
       "  max-width: 300px;\n",
       "  word-wrap: break-word;\n",
       "}\n",
       "</style>\n",
       "<table id=\"T_037f7\">\n",
       "  <thead>\n",
       "    <tr>\n",
       "      <th class=\"blank level0\" >&nbsp;</th>\n",
       "      <th id=\"T_037f7_level0_col0\" class=\"col_heading level0 col0\" >id</th>\n",
       "      <th id=\"T_037f7_level0_col1\" class=\"col_heading level0 col1\" >title</th>\n",
       "      <th id=\"T_037f7_level0_col2\" class=\"col_heading level0 col2\" >date</th>\n",
       "      <th id=\"T_037f7_level0_col3\" class=\"col_heading level0 col3\" >content</th>\n",
       "      <th id=\"T_037f7_level0_col4\" class=\"col_heading level0 col4\" >domain</th>\n",
       "      <th id=\"T_037f7_level0_col5\" class=\"col_heading level0 col5\" >url</th>\n",
       "      <th id=\"T_037f7_level0_col6\" class=\"col_heading level0 col6\" >content_cleaned</th>\n",
       "    </tr>\n",
       "  </thead>\n",
       "  <tbody>\n",
       "    <tr>\n",
       "      <th id=\"T_037f7_level0_row0\" class=\"row_heading level0 row0\" >3497</th>\n",
       "      <td id=\"T_037f7_row0_col0\" class=\"data row0 col0\" >105173</td>\n",
       "      <td id=\"T_037f7_row0_col1\" class=\"data row0 col1\" >Global energy storage market 'growing pains ' won't stunt 15-fold boom by 2030: BNEF</td>\n",
       "      <td id=\"T_037f7_row0_col2\" class=\"data row0 col2\" >2022-10-14 00:00:00</td>\n",
       "      <td id=\"T_037f7_row0_col3\" class=\"data row0 col3\" >Global energy storage markets will together grow 15-fold to 411GW ( 1.19TWh) by the end of the decade boosted by recent policy shifts in the US and Europe although supply chain constraints might slow additions according to the latest forecast from BloombergNEF ( BNEF). The research house sees 13% more capacity – 46GW ( 145GWh) – than previously estimated being built given extra drive by the US Inflation Reduction Act ( IRA) which has earmarked $ 369bn for clean technologies and EU’ s REPowerEU plan which has raised ambitions to cut reliance on gas from Russia. BNEF’ s 2H 2022 Energy Storage Market Outlook estimates roughly 30GW ( 111GWh) of energy storage build through to 2030 although supply chain bottlenecks “ cloud deployment expectations until 2024 ”. In the utility-scale sector significant storage additions expected from 2025 onwards align with raised renewable targets outlined in the REPowerEU plan and a renewed focus on energy security in the UK according to BNEF which has more than doubled its estimates for deployments in the second half of this decade across Europe. In Europe Russia’ s invasion of Ukraine has impacted on energy storage developments with record electricity prices forcing consumers to consider new forms of energy supply supporting near-term growth in the residential segment. While scale-up of global energy storage capacity is imminent BNEF cautions that supply chain hurdles remain an impediment for the industry. On top of pandemic-related issues inflation high transport costs and raw material prices have made battery cells more expensive over the last year. Meanwhile projects face long lead times to finance develop and commission. So far in 2022 supply chain disruptions have resulted in lower utility-scale storage additions said BNEF noting that while a lot of these pressures would ikely ease next year scaling up for a vastly larger market in 2030 “ will certainly come with challenges ”. “ The energy storage industry is facing growing pains. Yet despite higher battery system prices demand is clear ” said Helen Kou lead author of the report and an energy storage associate at BNEF. The US and China are set to remain the two largest energy storage markets through 2030 representing more than half of global installations. “ Europe however is catching up with a significant ramp-up in capacity fuelled by the current energy crisis ” said Kou. Regionally Asia Pacific will lead storage build on a megawatt-basis by 2030 with momentum underpinned by the rapidly scaling market in China. The Americas will add more capacity on a megawatt-hour basis as storage plants in the US usually have more hours of storage. Africa Europe even with additional upside from recent policy advances and the Middle East are all set to lag Asia Pacific and the Americas according to BNEF. The firm’ s forecast suggests the majority of energy storage build by 2030 equivalent to 61% of total megawattage will be to provide so-called energy shifting – advancing or delaying the time of electricity dispatch. Co-located renewables-plus-storage projects in particular solar-plus-storage are becoming commonplace globally. BNEF noted that rapidly evolving battery technology is also driving the energy storage market. Lithium-ion batteries presently account for the majority of installations but many non-battery technologies are under development such as compressed air and thermal energy storage. Still it expects that batteries will dominate the market at least until the 2030s in large part due to their price competitiveness established supply chain and significant track record. “ If new technologies can successfully outcompete lithium-ion then total energy storage uptake may well be larger ” said Kou. Recharge is part of DN Media Group. To read more about DN Media Group click here Recharge is part of DN Media Group AS. From November 1st DN Media Group is responsible for controlling your data on Recharge. We use your data to ensure you have a secure and enjoyable user experience when visiting our site. You can read more about how we handle your information in our privacy policy. DN Media Group is the leading news provider in the shipping seafood and energy industries with a number of English- and Norwegian-language news publications across a variety of sectors. Read more about DN Media Group here. Recharge is part of NHST Global Publications AS and we are responsible for the data that you register with us and the data we collect when you visit our websites. We use cookies in a variety of ways to improve your experience such as keeping NHST websites reliable and secure personalising content and ads and to analyse how our sites are being used. For more information and how to manage your privacy settings please refer to our privacy and cookie policies.</td>\n",
       "      <td id=\"T_037f7_row0_col4\" class=\"data row0 col4\" >rechargenews</td>\n",
       "      <td id=\"T_037f7_row0_col5\" class=\"data row0 col5\" >https://www.rechargenews.com/markets/global-energy-storage-market-growing-pains-wont-stunt-15-fold-boom-by-2030-bnef/2-1-1334329</td>\n",
       "      <td id=\"T_037f7_row0_col6\" class=\"data row0 col6\" >Global energy storage</td>\n",
       "    </tr>\n",
       "  </tbody>\n",
       "</table>\n"
      ],
      "text/plain": [
       "<pandas.io.formats.style.Styler at 0x2233cc38450>"
      ]
     },
     "execution_count": 15,
     "metadata": {},
     "output_type": "execute_result"
    }
   ],
   "source": [
    "u.print_full_text(df = data_cleaned[data_cleaned['id'] == 105173])\n"
   ]
  },
  {
   "cell_type": "code",
   "execution_count": 16,
   "metadata": {},
   "outputs": [],
   "source": [
    "file_name_test = 'cleantech_rag_evaluation_data_2024-09-20.csv'\n",
    "# full_path = os.path.join(file_path, file_name_train)\n",
    "\n",
    "column_names = [\"example_id\", \"question_id\", \"question\", \"relevant_text\", \"answer\", \"article_url\"]\n",
    "# df_train = pd.read_csv(full_path, delimiter=\",\", names=column_names, skiprows=1, encoding=\"utf-8\")\n",
    "# df_train = pd.read_csv(file_path+file_name_test, delimiter=\",\", names=column_names, skiprows=1, encoding=\"utf-8\")\n",
    "df_test = pd.read_csv(file_path + file_name_test, delimiter=\";\", names=column_names, skiprows=1, encoding=\"utf-8\")\n"
   ]
  },
  {
   "cell_type": "code",
   "execution_count": 17,
   "metadata": {},
   "outputs": [],
   "source": [
    "# u.print_full_text(df_test)"
   ]
  },
  {
   "cell_type": "code",
   "execution_count": 18,
   "metadata": {},
   "outputs": [],
   "source": [
    "df_pv_magazine = df_train[df_train['url'] == 'https://www.pv-magazine.com/2023/04/08/high-time-for-solar/#comments']"
   ]
  },
  {
   "cell_type": "code",
   "execution_count": 19,
   "metadata": {},
   "outputs": [
    {
     "data": {
      "text/html": [
       "<style type=\"text/css\">\n",
       "#T_bce04_row0_col0, #T_bce04_row0_col1, #T_bce04_row0_col2, #T_bce04_row0_col3, #T_bce04_row0_col4, #T_bce04_row0_col5, #T_bce04_row0_col6 {\n",
       "  white-space: pre-wrap;\n",
       "  max-width: 300px;\n",
       "  word-wrap: break-word;\n",
       "}\n",
       "</style>\n",
       "<table id=\"T_bce04\">\n",
       "  <thead>\n",
       "    <tr>\n",
       "      <th class=\"blank level0\" >&nbsp;</th>\n",
       "      <th id=\"T_bce04_level0_col0\" class=\"col_heading level0 col0\" >id</th>\n",
       "      <th id=\"T_bce04_level0_col1\" class=\"col_heading level0 col1\" >title</th>\n",
       "      <th id=\"T_bce04_level0_col2\" class=\"col_heading level0 col2\" >date</th>\n",
       "      <th id=\"T_bce04_level0_col3\" class=\"col_heading level0 col3\" >content</th>\n",
       "      <th id=\"T_bce04_level0_col4\" class=\"col_heading level0 col4\" >domain</th>\n",
       "      <th id=\"T_bce04_level0_col5\" class=\"col_heading level0 col5\" >url</th>\n",
       "      <th id=\"T_bce04_level0_col6\" class=\"col_heading level0 col6\" >content_cleaned</th>\n",
       "    </tr>\n",
       "  </thead>\n",
       "  <tbody>\n",
       "    <tr>\n",
       "      <th id=\"T_bce04_level0_row0\" class=\"row_heading level0 row0\" >6283</th>\n",
       "      <td id=\"T_bce04_row0_col0\" class=\"data row0 col0\" >98906</td>\n",
       "      <td id=\"T_bce04_row0_col1\" class=\"data row0 col1\" >Weekend read: High time for solar – pv magazine International</td>\n",
       "      <td id=\"T_bce04_row0_col2\" class=\"data row0 col2\" >2023-04-08 00:00:00</td>\n",
       "      <td id=\"T_bce04_row0_col3\" class=\"data row0 col3\" >Cannabis prohibition drove a culture of clandestine production in the past and solar helped growers to cultivate it at remote off-grid sites. Now as a global commercial cannabis market emerges solar has an even bigger role to play. Legal cannabis cultivation could be a big opportunity for solar. Solar energy and cannabis cultivation are old bedfellows. PV pioneer John Schaeffer has even credited solar with facilitating the northern California cannabis industry which in turn supported the nascent PV sector. Now as the legalization of medical and recreational cannabis gathers pace solar continues to perform a key role. Cannabis cultivation can take place outdoors indoors or in greenhouses. While outdoor cultivation worked for millennia the growth of the industry and increased demand for higher-quality product – plus tight profit margins – have prompted producers to go indoors where ideal environments can be replicated. Indoor growth gives control over environmental factors and flowering periods. More importantly it means consistent year-round harvests. However the high-powered lights and the heating ventilation and air conditioning equipment needed to control temperature and humidity come with a Sasquatch-sized carbon footprint. A 2022 report from the United Nations Office of Drugs and Crime ( UNODC) estimated climate control measures represent more than 80% of the carbon footprint of indoor cannabis production. UNODC estimated that the carbon footprint is 16 times to 100 times larger than for outdoor cultivation. Indoor “ factory farming ” is incompatible with environmental social and corporate governance ( ESG) standards says Evan Mills principal at engineering consultancy Energy Associates and a former senior scientist at the Lawrence Berkeley National Laboratory. Mills spelled out the problem in a paper published in “ Energy Policy ” in 2012 the year Colorado and Washington state legalized cannabis and spurred a domino effect elsewhere. Even then he estimated indoor cultivation accounted for 1% of total US electricity use for a carbon footprint equivalent to three million cars. The scientist estimated 42% of cultivators grew exclusively indoors by 2020 often in multiple sprawling Walmart-scale factories with energy consumption comparable to data centers. Unfortunately installing large scale solar on site isn’ t an easy solution. According to Mills’ recent research into a proposed indoor cannabis industrial park in Blythe California the amount of solar needed to achieve net zero energy supply would cover 1 400 acres – far more land than would be necessary if the cannabis were grown outdoors. While entirely valid Mills’ research suggests an erroneous equivalency between indoor- and outdoor-grown cannabis. After all anyone can brew up a big batch of moonshine in a bathtub but it’ s not so easy to produce a fine single-malt Scotch at scale. Indoor cannabis is a premium product and in a state like California where people can still easily access a black market at least double the size of the regulated ( and taxable) industry commercial cannabis companies are incentivized to produce premium products only cultivable in a climate-controlled environment. Large-scale outdoor farming is also fraught with risk. In October or “ Croptober ” as it is known all of California’ s outdoor-grown cannabis is harvested. This single harvest if it has not been spoiled by environmental impacts such as wildfires is only attractive for consumers for several months. If the crop fails or people decide to use cannabis in the other nine months of the year well they’ ll turn to an indoor site or greenhouse. Despite the alarming energy intensity of indoor cultivation the sheer roofspace of grow houses is an ideal solar platform. California-based Canndescent boasts more than 100 000 square feet of indoor cultivation space and annually produces almost 17 tons of cannabis. In 2019 Canndescent installed a 282.5 kW solar system at its facility in Desert Hot Springs. Canndescent Senior Director of Compliance Andrew Mochulsky tells pv magazine the Colorado Desert’ s unrelenting sunshine and limited cloud cover make solar a no-brainer. “ We’ re in the heart of solar and wind country so it made sense to bring solar online ” he says. “ We also think it’ s just the right thing to do. ” Indoor cultivation Mochulsky says is “ not trying to replace the sun but improve upon it to create rigid 12-hour midday sun conditions which are physically impossible outside. Because of that you have to control the environment so it’ s very thirsty for electricity. ” Canndescent’ s solar offsets 25% to 35% of the company’ s electricity consumption according to Mochulsky depending on the time of year. “ It’ s a great investment ” he adds. “ And if we can get closer to a 1:1 ratio of canopy space it would have a substantial impact on our power costs. ” The inclusion of solar shades and carports also provides a “ quality of life benefit ” for employees Mochulsky says. “ So people have a nice shaded place to sit. ” Despite such benefits only a small minority of North American indoor growers have gone solar. “ We are an outlier ” says Mochulsky. “ I can not say that it is the norm. Even here in Desert Hot Springs we are the only one and that is in sharp contrast to the residential market where every rooftop has solar on it. Solar makes abundant sense but it entails a cost upfront. ” The Canndescent director says tight cannabis margins are a factor. “ Even with an ROI [ return on investment for solar ] of five years the market is soft [ costs ] are low – except to operate – and the liquidity is very tight. ” While cannabis legalization in the US is progressing state by state and president Joe Biden has directed his secretary of health and human services and the attorney general to review cannabis scheduling under federal law the market remains in legal limbo at national level making financing solar difficult. “ There are a lot of prevailing headwinds for cannabis to adopt more solar ” says Mochulsky. “ Access to a lot of financial instruments is just not available. We can not get a standard loan from the standard banks. We can’ t for example mortgage a company. Cannabis companies don’ t have availability to things like bankruptcy. Federal illegality also means we don’ t have access to state and federal tax-credit programs [ such as the Inflation Reduction Act ]. Investors are much more attuned to that degree of risk. After all if a company can’ t restructure it has to fail. ” There are more examples of solar adoption however. Much further north Freedom Cannabis tapped AltaPro Electric to design and install a 1.83 MW system atop its facility in Acheson Alberta in 2020. “ It’ s Canada’ s largest operational rooftop PV installation ” says AltaPro Chief Financial Officer David DeBruin. Freedom Cannabis is reaping the rewards from betting on solar. “ The margins in the indoor grow operations are very competitive and chopping down one of the largest opex [ operating expenditure ] items is a great way that Freedom Cannabis has been able to be a leader in the industry ” DeBruin tells pv magazine. He says other cannabis companies have made inquiries about solar but as in the US “ it seems the clients are held back due to financing becoming harder to attain from lenders. It’ s too bad because the cost of borrowing is dwarfed by the savings many times making any loan to install solar cash flow positive in year one. ” Cannabis is not limited to medical and recreational use. Hemp is one of the most versatile crops on the planet – and it’ s making a big comeback. As hemp is not grown for psychoactive component tetrahydrocannabinol ( THC) its farming is far less intensive and finicky than for example the high-THC flower grown by Canndescent in California. This makes hemp a potentially ideal agrivoltaic crop. In Melz Germany agrivoltaic developer SunFarming is currently trialing the cultivation of hemp under solar panels. “ All the plants without exception have grown well and developed excellently ” says Rafael Dulon founder and managing director of Hanf Farm. Dulon says the panels also help with mold a key concern for hemp farmers. Mold becomes a problem in autumn as temperatures cool and precipitation on the plants fails to dry. “ The rain protection for the plants provided by the PV system works wonderfully ” Dulon says. Another less-energy-intensive growing option is a greenhouse. However the need for natural sunlight makes rooftop solar less attractive on such structures. Building-integrated photovoltaics ( BIPV) are improving rapidly but products such as solar facades for greenhouses may be years away. In the meantime US-based nanomaterials innovator UbiQD’ s agricultural arm UbiGro – and solar panel manufacturer Heliene – have entered a joint development agreement for light-optimizing energy-producing modules designed for agrivoltaic greenhouses. UbiGro’ s translucent greenhouse film is integrated with photoluminescent particles that convert light into a preferable wavelength and can easily be combined with a solar module. UbiQD founder and CEO Hunter McDaniel tells pv magazine that if the panels only partially shade the greenhouse the yield lost to shading can be made up by the spectrum improvement provided by the film. McDaniel adds that while indoor growers have thus far managed to keep the scope of their energy intensity quiet – as opposed to similarly emergent energy-intensive industries such as crypto-mining – indoor growth is likely to shrink. Scientist Mills’ research supports this idea as the number of growers who operate primarily indoors fell from 80% to 60% between 2016 and 2020. With outdoor growth too inconsistent and indoor growth shrinking the hybrid option of greenhouses is likely to proliferate in the future. The cannabis industry trend of solar uptake is continuing in US states where the plant has been legalized more recently such as New York. Nate VerHague market development manager at New York-based installer Solar Liberty tells pv magazine the new cannabis market “ is going to have a ton of potential for solar. ” VerHague notes cannabis operations in New York state ( NYS) are only just getting up and running. “ There is going to be some extreme utility costs when it comes to electricity for these large operations ” he says. “ It is an ideal customer for solar as these facilities typically have a lot of roof space to utilize. ” While the nascent nature of the NYS market means Solar Liberty is yet to install PV for a cannabis company VerHague confirms the installer is “ in the quoting process with some organizations ” with the market looking promising from this year onward. National and regional governments the world over are shaping to follow in the footsteps of the US Canada Mexico Thailand Uruguay and others. Germany could legalize cannabis completely within a few years a development which would not only make it the world’ s single largest legal market but also considering its European centrality the world’ s “ dankest ” domino as neighbors would be expected to follow. Cannabis is becoming big business and given its energy needs could be big business for solar too. This content is protected by copyright and may not be reused. If you want to cooperate with us and would like to reuse some of our content please contact: editors @ pv-magazine.com. Please be mindful of our community standards. Your email address will not be published. Required fields are marked * Save my name email and website in this browser for the next time I comment. By submitting this form you agree to pv magazine using your data for the purposes of publishing your comment. Your personal data will only be disclosed or otherwise transmitted to third parties for the purposes of spam filtering or if this is necessary for technical maintenance of the website. Any other transfer to third parties will not take place unless this is justified on the basis of applicable data protection regulations or if pv magazine is legally obliged to do so. You may revoke this consent at any time with effect for the future in which case your personal data will be deleted immediately. Otherwise your data will be deleted if pv magazine has processed your request or the purpose of data storage is fulfilled. Further information on data privacy can be found in our Data Protection Policy. This website uses cookies to anonymously count visitor numbers. View our privacy policy. × The cookie settings on this website are set to `` allow cookies '' to give you the best browsing experience possible. If you continue to use this website without changing your cookie settings or you click `` Accept '' below then you are consenting to this.</td>\n",
       "      <td id=\"T_bce04_row0_col4\" class=\"data row0 col4\" >pv-magazine</td>\n",
       "      <td id=\"T_bce04_row0_col5\" class=\"data row0 col5\" >https://www.pv-magazine.com/2023/04/08/high-time-for-solar/#comments</td>\n",
       "      <td id=\"T_bce04_row0_col6\" class=\"data row0 col6\" >Cannabis prohibition drove a culture of clandestine production in the past and solar helped growers to cultivate it at remote off grid sites. Now as a global commercial cannabis market emerges solar has an even bigger role to play. Legal cannabis cultivation could be a big opportunity for solar. Solar energy and cannabis cultivation are old bedfellows. PV pioneer John Schaeffer has even credited solar with facilitating the northern California cannabis industry which in turn supported the nascent PV sector. Now as the legalization of medical and recreational cannabis gathers pace solar continues to perform a key role. Cannabis cultivation can take place outdoors indoors or in greenhouses. While outdoor cultivation worked for millennia the growth of the industry and increased demand for higher quality product  plus tight profit margins  have prompted producers to go indoors where ideal environments can be replicated. Indoor growth gives control over environmental factors and flowering periods. More importantly it means consistent year round harvests. However the high powered lights and the heating ventilation and air conditioning equipment needed to control temperature and humidity come with a Sasquatch sized carbon footprint. A 2022 report from the United Nations Office of Drugs and Crime  UNODC estimated climate control measures represent more than 80 of the carbon footprint of indoor cannabis production. UNODC estimated that the carbon footprint is 16 times to 100 times larger than for outdoor cultivation. Indoor \" factory farming \" is incompatible with environmental social and corporate governance  ESG standards says Evan Mills principal at engineering consultancy Energy Associates and a former senior scientist at the Lawrence Berkeley National Laboratory. Mills spelled out the problem in a paper published in \" Energy Policy \" in 2012 the year Colorado and Washington state legalized cannabis and spurred a domino effect elsewhere. Even then he estimated indoor cultivation accounted for 1 of total US electricity use for a carbon footprint equivalent to three million cars. The scientist estimated 42 of cultivators grew exclusively indoors by 2020 often in multiple sprawling Walmart scale factories with energy consumption comparable to data centers. Unfortunately installing large scale solar on site isn' t an easy solution. According to Mills' recent research into a proposed indoor cannabis industrial park in Blythe California the amount of solar needed to achieve net zero energy supply would cover 1 400 acres  far more land than would be necessary if the cannabis were grown outdoors. While entirely valid Mills' research suggests an erroneous equivalency between indoor and outdoor grown cannabis. After all anyone can brew up a big batch of moonshine in a bathtub but it' s not so easy to produce a fine single malt Scotch at scale. Indoor cannabis is a premium product and in a state like California where people can still easily access a black market at least double the size of the regulated  and taxable industry commercial cannabis companies are incentivized to produce premium products only cultivable in a climate controlled environment. Large scale outdoor farming is also fraught with risk. In October or \" Croptober \" as it is known all of California' s outdoor grown cannabis is harvested. This single harvest if it has not been spoiled by environmental impacts such as wildfires is only attractive for consumers for several months. If the crop fails or people decide to use cannabis in the other nine months of the year well they' ll turn to an indoor site or greenhouse. Despite the alarming energy intensity of indoor cultivation the sheer roofspace of grow houses is an ideal solar platform. California based Canndescent boasts more than 100 000 square feet of indoor cultivation space and annually produces almost 17 tons of cannabis. In 2019 Canndescent installed a 282.5 kW solar system at its facility in Desert Hot Springs. Canndescent Senior Director of Compliance Andrew Mochulsky tells pv magazine the Colorado Desert' s unrelenting sunshine and limited cloud cover make solar a no brainer. \" We' re in the heart of solar and wind country so it made sense to bring solar online \" he says. \" We also think it' s just the right thing to do. \" Indoor cultivation Mochulsky says is \" not trying to replace the sun but improve upon it to create rigid 12 hour midday sun conditions which are physically impossible outside. Because of that you have to control the environment so it' s very thirsty for electricity. \" Canndescent' s solar offsets 25 to 35 of the company' s electricity consumption according to Mochulsky depending on the time of year. \" It' s a great investment \" he adds. \" And if we can get closer to a 11 ratio of canopy space it would have a substantial impact on our power costs. \" The inclusion of solar shades and carports also provides a \" quality of life benefit \" for employees Mochulsky says. \" So people have a nice shaded place to sit. \" Despite such benefits only a small minority of North American indoor growers have gone solar. \" We are an outlier \" says Mochulsky. \" I can not say that it is the norm. Even here in Desert Hot Springs we are the only one and that is in sharp contrast to the residential market where every rooftop has solar on it. Solar makes abundant sense but it entails a cost upfront. \" The Canndescent director says tight cannabis margins are a factor. \" Even with an ROI  return on investment for solar  of five years the market is soft  costs  are low  except to operate  and the liquidity is very tight. \" While cannabis legalization in the US is progressing state by state and president Joe Biden has directed his secretary of health and human services and the attorney general to review cannabis scheduling under federal law the market remains in legal limbo at national level making financing solar difficult. \" There are a lot of prevailing headwinds for cannabis to adopt more solar \" says Mochulsky. \" Access to a lot of financial instruments is just not available. We can not get a standard loan from the standard banks. We can' t for example mortgage a company. Cannabis companies don' t have availability to things like bankruptcy. Federal illegality also means we don' t have access to state and federal tax credit programs  such as the Inflation Reduction Act . Investors are much more attuned to that degree of risk. After all if a company can' t restructure it has to fail. \" There are more examples of solar adoption however. Much further north Freedom Cannabis tapped AltaPro Electric to design and install a 1.83 MW system atop its facility in Acheson Alberta in 2020. \" It' s Canada' s largest operational rooftop PV installation \" says AltaPro Chief Financial Officer David DeBruin. Freedom Cannabis is reaping the rewards from betting on solar. \" The margins in the indoor grow operations are very competitive and chopping down one of the largest opex  operating expenditure  items is a great way that Freedom Cannabis has been able to be a leader in the industry \" DeBruin tells pv magazine. He says other cannabis companies have made inquiries about solar but as in the US \" it seems the clients are held back due to financing becoming harder to attain from lenders. It' s too bad because the cost of borrowing is dwarfed by the savings many times making any loan to install solar cash flow positive in year one. \" Cannabis is not limited to medical and recreational use. Hemp is one of the most versatile crops on the planet  and it' s making a big comeback. As hemp is not grown for psychoactive component tetrahydrocannabinol  THC its farming is far less intensive and finicky than for example the high THC flower grown by Canndescent in California. This makes hemp a potentially ideal agrivoltaic crop. In Melz Germany agrivoltaic developer SunFarming is currently trialing the cultivation of hemp under solar panels. \" All the plants without exception have grown well and developed excellently \" says Rafael Dulon founder and managing director of Hanf Farm. Dulon says the panels also help with mold a key concern for hemp farmers. Mold becomes a problem in autumn as temperatures cool and precipitation on the plants fails to dry. \" The rain protection for the plants provided by the PV system works wonderfully \" Dulon says. Another less energy intensive growing option is a greenhouse. However the need for natural sunlight makes rooftop solar less attractive on such structures. Building integrated photovoltaics  BIPV are improving rapidly but products such as solar facades for greenhouses may be years away. In the meantime US based nanomaterials innovator UbiQD' s agricultural arm UbiGro  and solar panel manufacturer Heliene  have entered a joint development agreement for light optimizing energy producing modules designed for agrivoltaic greenhouses. UbiGro' s translucent greenhouse film is integrated with photoluminescent particles that convert light into a preferable wavelength and can easily be combined with a solar module. UbiQD founder and CEO Hunter McDaniel tells pv magazine that if the panels only partially shade the greenhouse the yield lost to shading can be made up by the spectrum improvement provided by the film. McDaniel adds that while indoor growers have thus far managed to keep the scope of their energy intensity quiet  as opposed to similarly emergent energy intensive industries such as crypto mining  indoor growth is likely to shrink. Scientist Mills' research supports this idea as the number of growers who operate primarily indoors fell from 80 to 60 between 2016 and 2020. With outdoor growth too inconsistent and indoor growth shrinking the hybrid option of greenhouses is likely to proliferate in the future. The cannabis industry trend of solar uptake is continuing in US states where the plant has been legalized more recently such as New York. Nate VerHague market development manager at New York based installer Solar Liberty tells pv magazine the new cannabis market \" is going to have a ton of potential for solar. \" VerHague notes cannabis operations in New York state  NYS are only just getting up and running. \" There is going to be some extreme utility costs when it comes to electricity for these large operations \" he says. \" It is an ideal customer for solar as these facilities typically have a lot of roof space to utilize. \" While the nascent nature of the NYS market means Solar Liberty is yet to install PV for a cannabis company VerHague confirms the installer is \" in the quoting process with some organizations \" with the market looking promising from this year onward. National and regional governments the world over are shaping to follow in the footsteps of the US Canada Mexico Thailand Uruguay and others. Germany could legalize cannabis completely within a few years a development which would not only make it the world' s single largest legal market but also considering its European centrality the world' s \" dankest \" domino as neighbors would be expected to follow. Cannabis is becoming big business and given its energy needs could be big business for solar too.</td>\n",
       "    </tr>\n",
       "  </tbody>\n",
       "</table>\n"
      ],
      "text/plain": [
       "<pandas.io.formats.style.Styler at 0x2233f789790>"
      ]
     },
     "execution_count": 19,
     "metadata": {},
     "output_type": "execute_result"
    }
   ],
   "source": [
    "u.print_full_text(df_pv_magazine)"
   ]
  },
  {
   "cell_type": "code",
   "execution_count": 20,
   "metadata": {},
   "outputs": [],
   "source": [
    "def check_target_url_in_train_df(target_df: pd.DataFrame, train_df: pd.DataFrame) -> pd.DataFrame:\n",
    "    url_in_train_df = set(train_df['url'])\n",
    "    target_df['url_in_train_df'] = target_df['article_url'].isin(url_in_train_df)\n",
    "    return target_df"
   ]
  },
  {
   "cell_type": "code",
   "execution_count": 21,
   "metadata": {},
   "outputs": [
    {
     "data": {
      "text/html": [
       "<style type=\"text/css\">\n",
       "#T_caa43_row0_col0, #T_caa43_row0_col1, #T_caa43_row0_col2, #T_caa43_row0_col3, #T_caa43_row0_col4, #T_caa43_row0_col5, #T_caa43_row0_col6, #T_caa43_row1_col0, #T_caa43_row1_col1, #T_caa43_row1_col2, #T_caa43_row1_col3, #T_caa43_row1_col4, #T_caa43_row1_col5, #T_caa43_row1_col6, #T_caa43_row2_col0, #T_caa43_row2_col1, #T_caa43_row2_col2, #T_caa43_row2_col3, #T_caa43_row2_col4, #T_caa43_row2_col5, #T_caa43_row2_col6, #T_caa43_row3_col0, #T_caa43_row3_col1, #T_caa43_row3_col2, #T_caa43_row3_col3, #T_caa43_row3_col4, #T_caa43_row3_col5, #T_caa43_row3_col6 {\n",
       "  white-space: pre-wrap;\n",
       "  max-width: 300px;\n",
       "  word-wrap: break-word;\n",
       "}\n",
       "</style>\n",
       "<table id=\"T_caa43\">\n",
       "  <thead>\n",
       "    <tr>\n",
       "      <th class=\"blank level0\" >&nbsp;</th>\n",
       "      <th id=\"T_caa43_level0_col0\" class=\"col_heading level0 col0\" >example_id</th>\n",
       "      <th id=\"T_caa43_level0_col1\" class=\"col_heading level0 col1\" >question_id</th>\n",
       "      <th id=\"T_caa43_level0_col2\" class=\"col_heading level0 col2\" >question</th>\n",
       "      <th id=\"T_caa43_level0_col3\" class=\"col_heading level0 col3\" >relevant_text</th>\n",
       "      <th id=\"T_caa43_level0_col4\" class=\"col_heading level0 col4\" >answer</th>\n",
       "      <th id=\"T_caa43_level0_col5\" class=\"col_heading level0 col5\" >article_url</th>\n",
       "      <th id=\"T_caa43_level0_col6\" class=\"col_heading level0 col6\" >url_in_train_df</th>\n",
       "    </tr>\n",
       "  </thead>\n",
       "  <tbody>\n",
       "    <tr>\n",
       "      <th id=\"T_caa43_level0_row0\" class=\"row_heading level0 row0\" >0</th>\n",
       "      <td id=\"T_caa43_row0_col0\" class=\"data row0 col0\" >1</td>\n",
       "      <td id=\"T_caa43_row0_col1\" class=\"data row0 col1\" >1</td>\n",
       "      <td id=\"T_caa43_row0_col2\" class=\"data row0 col2\" >What is the innovation behind Leclanché's new method to produce lithium-ion batteries?</td>\n",
       "      <td id=\"T_caa43_row0_col3\" class=\"data row0 col3\" >Leclanché said it has developed an environmentally friendly way to produce lithium-ion (Li-ion) batteries. It has replaced highly toxic organic solvents, commonly used in the production process, with a water-based process to make nickel-manganese-cobalt-aluminium cathodes (NMCA).</td>\n",
       "      <td id=\"T_caa43_row0_col4\" class=\"data row0 col4\" >Leclanché's innovation is using a water-based process instead of highly toxic organic solvents to produce nickel-manganese-cobalt-aluminium cathodes for lithium-ion batteries.</td>\n",
       "      <td id=\"T_caa43_row0_col5\" class=\"data row0 col5\" >https://www.sgvoice.net/strategy/technology/23971/leclanches-new-disruptive-battery-boosts-energy-density/</td>\n",
       "      <td id=\"T_caa43_row0_col6\" class=\"data row0 col6\" >False</td>\n",
       "    </tr>\n",
       "    <tr>\n",
       "      <th id=\"T_caa43_level0_row1\" class=\"row_heading level0 row1\" >1</th>\n",
       "      <td id=\"T_caa43_row1_col0\" class=\"data row1 col0\" >2</td>\n",
       "      <td id=\"T_caa43_row1_col1\" class=\"data row1 col1\" >2</td>\n",
       "      <td id=\"T_caa43_row1_col2\" class=\"data row1 col2\" >What is the EU’s Green Deal Industrial Plan?</td>\n",
       "      <td id=\"T_caa43_row1_col3\" class=\"data row1 col3\" >The Green Deal Industrial Plan is a bid by the EU to make its net zero industry more competitive and to accelerate its transition to net zero. It intends to support the expansion of European manufacturing of technologies, goods and services needed to achieve its climate targets.</td>\n",
       "      <td id=\"T_caa43_row1_col4\" class=\"data row1 col4\" >The EU’s Green Deal Industrial Plan aims to enhance the competitiveness of its net zero industry and accelerate the transition to net zero by supporting the expansion of European manufacturing of technologies, goods, and services necessary to meet climate targets.</td>\n",
       "      <td id=\"T_caa43_row1_col5\" class=\"data row1 col5\" >https://www.sgvoice.net/policy/25396/eu-seeks-competitive-boost-with-green-deal-industrial-plan/</td>\n",
       "      <td id=\"T_caa43_row1_col6\" class=\"data row1 col6\" >False</td>\n",
       "    </tr>\n",
       "    <tr>\n",
       "      <th id=\"T_caa43_level0_row2\" class=\"row_heading level0 row2\" >3</th>\n",
       "      <td id=\"T_caa43_row2_col0\" class=\"data row2 col0\" >4</td>\n",
       "      <td id=\"T_caa43_row2_col1\" class=\"data row2 col1\" >3</td>\n",
       "      <td id=\"T_caa43_row2_col2\" class=\"data row2 col2\" >What are the four focus areas of the EU's Green Deal Industrial Plan?</td>\n",
       "      <td id=\"T_caa43_row2_col3\" class=\"data row2 col3\" >The new plan is fundamentally focused on four areas, or pillars: the regulatory environment, access to finance, enhancing skills, and improving supply chain resilience. It also builds on other initiatives, such as REPowerEU, as well as the strength of the single market.</td>\n",
       "      <td id=\"T_caa43_row2_col4\" class=\"data row2 col4\" >The four focus areas of the EU's Green Deal Industrial Plan are the regulatory environment, access to finance, enhancing skills, and improving supply chain resilience.</td>\n",
       "      <td id=\"T_caa43_row2_col5\" class=\"data row2 col5\" >https://www.sgvoice.net/policy/25396/eu-seeks-competitive-boost-with-green-deal-industrial-plan/</td>\n",
       "      <td id=\"T_caa43_row2_col6\" class=\"data row2 col6\" >False</td>\n",
       "    </tr>\n",
       "    <tr>\n",
       "      <th id=\"T_caa43_level0_row3\" class=\"row_heading level0 row3\" >22</th>\n",
       "      <td id=\"T_caa43_row3_col0\" class=\"data row3 col0\" >23</td>\n",
       "      <td id=\"T_caa43_row3_col1\" class=\"data row3 col1\" >21</td>\n",
       "      <td id=\"T_caa43_row3_col2\" class=\"data row3 col2\" >Which has the higher absorption coefficient for wavelengths above 500m - amorphous germanium or amorphous silicon?</td>\n",
       "      <td id=\"T_caa43_row3_col3\" class=\"data row3 col3\" >We chose amorphous germanium instead of amorphous silicon as absorber material because of its higher absorption coefficient for wavelengths above 500 nm.</td>\n",
       "      <td id=\"T_caa43_row3_col4\" class=\"data row3 col4\" >amorphous germanium</td>\n",
       "      <td id=\"T_caa43_row3_col5\" class=\"data row3 col5\" >https://www.pv-magazine.com/2021/01/15/germanium-based-solar-cell-tech-for-agrivoltaics/#respond</td>\n",
       "      <td id=\"T_caa43_row3_col6\" class=\"data row3 col6\" >False</td>\n",
       "    </tr>\n",
       "  </tbody>\n",
       "</table>\n"
      ],
      "text/plain": [
       "<pandas.io.formats.style.Styler at 0x223174e8350>"
      ]
     },
     "execution_count": 21,
     "metadata": {},
     "output_type": "execute_result"
    }
   ],
   "source": [
    "url_check = check_target_url_in_train_df(df_test, data_cleaned)\n",
    "url_check = url_check[url_check['url_in_train_df'] == False]\n",
    "u.print_full_text(url_check)"
   ]
  },
  {
   "cell_type": "code",
   "execution_count": 22,
   "metadata": {},
   "outputs": [],
   "source": [
    "# print(df_train[df_train['url'].str.startswith('https://www.pv-magazine.com/2021')])"
   ]
  },
  {
   "cell_type": "code",
   "execution_count": 23,
   "metadata": {},
   "outputs": [],
   "source": [
    "# url_check.to_csv(file_path+'data_processed/target_urls_not_in_train_df.csv', index=False, sep=';')"
   ]
  },
  {
   "cell_type": "code",
   "execution_count": 24,
   "metadata": {},
   "outputs": [
    {
     "data": {
      "text/html": [
       "<div>\n",
       "<style scoped>\n",
       "    .dataframe tbody tr th:only-of-type {\n",
       "        vertical-align: middle;\n",
       "    }\n",
       "\n",
       "    .dataframe tbody tr th {\n",
       "        vertical-align: top;\n",
       "    }\n",
       "\n",
       "    .dataframe thead th {\n",
       "        text-align: right;\n",
       "    }\n",
       "</style>\n",
       "<table border=\"1\" class=\"dataframe\">\n",
       "  <thead>\n",
       "    <tr style=\"text-align: right;\">\n",
       "      <th></th>\n",
       "      <th>example_id</th>\n",
       "      <th>question_id</th>\n",
       "      <th>question</th>\n",
       "      <th>relevant_text</th>\n",
       "      <th>answer</th>\n",
       "      <th>article_url</th>\n",
       "    </tr>\n",
       "  </thead>\n",
       "  <tbody>\n",
       "    <tr>\n",
       "      <th>0</th>\n",
       "      <td>3</td>\n",
       "      <td>2</td>\n",
       "      <td>What is the EU’s Green Deal Industrial Plan?</td>\n",
       "      <td>The European counterpart to the US Inflation R...</td>\n",
       "      <td>The EU’s Green Deal Industrial Plan aims to en...</td>\n",
       "      <td>https://www.pv-magazine.com/2023/02/02/europea...</td>\n",
       "    </tr>\n",
       "    <tr>\n",
       "      <th>1</th>\n",
       "      <td>5</td>\n",
       "      <td>4</td>\n",
       "      <td>When did the cooperation between GM and Honda ...</td>\n",
       "      <td>What caught our eye was a new hookup between G...</td>\n",
       "      <td>July 2013</td>\n",
       "      <td>https://cleantechnica.com/2023/05/08/general-m...</td>\n",
       "    </tr>\n",
       "    <tr>\n",
       "      <th>2</th>\n",
       "      <td>6</td>\n",
       "      <td>5</td>\n",
       "      <td>Did Colgate-Palmolive enter into PPA agreement...</td>\n",
       "      <td>Scout Clean Energy, a Colorado-based renewable...</td>\n",
       "      <td>yes</td>\n",
       "      <td>https://solarindustrymag.com/scout-and-colgate...</td>\n",
       "    </tr>\n",
       "    <tr>\n",
       "      <th>3</th>\n",
       "      <td>7</td>\n",
       "      <td>6</td>\n",
       "      <td>What is the status of ZeroAvia's hydrogen fuel...</td>\n",
       "      <td>In December, the US startup ZeroAvia announced...</td>\n",
       "      <td>ZeroAvia's hydrogen fuel cell electric aircraf...</td>\n",
       "      <td>https://cleantechnica.com/2023/01/02/the-wait-...</td>\n",
       "    </tr>\n",
       "    <tr>\n",
       "      <th>4</th>\n",
       "      <td>8</td>\n",
       "      <td>7</td>\n",
       "      <td>What is the \"Danger Season\"?</td>\n",
       "      <td>As spring turns to summer and the days warm up...</td>\n",
       "      <td>The \"Danger Season\" is the period in the North...</td>\n",
       "      <td>https://cleantechnica.com/2023/05/15/what-does...</td>\n",
       "    </tr>\n",
       "  </tbody>\n",
       "</table>\n",
       "</div>"
      ],
      "text/plain": [
       "   example_id  question_id                                           question  \\\n",
       "0           3            2       What is the EU’s Green Deal Industrial Plan?   \n",
       "1           5            4  When did the cooperation between GM and Honda ...   \n",
       "2           6            5  Did Colgate-Palmolive enter into PPA agreement...   \n",
       "3           7            6  What is the status of ZeroAvia's hydrogen fuel...   \n",
       "4           8            7                       What is the \"Danger Season\"?   \n",
       "\n",
       "                                       relevant_text  \\\n",
       "0  The European counterpart to the US Inflation R...   \n",
       "1  What caught our eye was a new hookup between G...   \n",
       "2  Scout Clean Energy, a Colorado-based renewable...   \n",
       "3  In December, the US startup ZeroAvia announced...   \n",
       "4  As spring turns to summer and the days warm up...   \n",
       "\n",
       "                                              answer  \\\n",
       "0  The EU’s Green Deal Industrial Plan aims to en...   \n",
       "1                                          July 2013   \n",
       "2                                                yes   \n",
       "3  ZeroAvia's hydrogen fuel cell electric aircraf...   \n",
       "4  The \"Danger Season\" is the period in the North...   \n",
       "\n",
       "                                         article_url  \n",
       "0  https://www.pv-magazine.com/2023/02/02/europea...  \n",
       "1  https://cleantechnica.com/2023/05/08/general-m...  \n",
       "2  https://solarindustrymag.com/scout-and-colgate...  \n",
       "3  https://cleantechnica.com/2023/01/02/the-wait-...  \n",
       "4  https://cleantechnica.com/2023/05/15/what-does...  "
      ]
     },
     "execution_count": 24,
     "metadata": {},
     "output_type": "execute_result"
    }
   ],
   "source": [
    "# # save evaluation data without false urls\n",
    "# url_check = check_target_url_in_train_df(df_test, data_cleaned)\n",
    "# cleantech_rag_evaluation_data = url_check[url_check['url_in_train_df'] == True]\n",
    "\n",
    "# cleantech_rag_evaluation_data = cleantech_rag_evaluation_data.drop(columns=['url_in_train_df'])\n",
    "\n",
    "# # save as parquet file\n",
    "# cleantech_rag_evaluation_data.to_parquet('../data_mc1/data_processed/cleantech_rag_evaluation_data.parquet', index=False)\n",
    "\n",
    "# read parquet file\n",
    "cleantech_rag_evaluation_data = pd.read_parquet('../data_mc1/data_processed/cleantech_rag_evaluation_data.parquet')\n",
    "cleantech_rag_evaluation_data.head()"
   ]
  }
 ],
 "metadata": {
  "kernelspec": {
   "display_name": "venv",
   "language": "python",
   "name": "python3"
  },
  "language_info": {
   "codemirror_mode": {
    "name": "ipython",
    "version": 3
   },
   "file_extension": ".py",
   "mimetype": "text/x-python",
   "name": "python",
   "nbconvert_exporter": "python",
   "pygments_lexer": "ipython3",
   "version": "3.11.9"
  }
 },
 "nbformat": 4,
 "nbformat_minor": 2
}
