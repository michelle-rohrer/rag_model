{
 "cells": [
  {
   "cell_type": "code",
   "execution_count": 1,
   "id": "065c8a1a",
   "metadata": {},
   "outputs": [
    {
     "name": "stderr",
     "output_type": "stream",
     "text": [
      "c:\\Users\\Michelle\\Desktop\\Uni\\Challenge\\npr_fs25\\.venv\\Lib\\site-packages\\tqdm\\auto.py:21: TqdmWarning: IProgress not found. Please update jupyter and ipywidgets. See https://ipywidgets.readthedocs.io/en/stable/user_install.html\n",
      "  from .autonotebook import tqdm as notebook_tqdm\n"
     ]
    }
   ],
   "source": [
    "from baseline import (\n",
    "    split_nested_splits,\n",
    "    run_tfidf_cv,\n",
    "    run_feature_extraction,\n",
    "    run_fine_tuning\n",
    ")\n",
    "from embedding import (\n",
    "    generate_and_save_embeddings_from_splits, \n",
    "    plot_tsne_for_all_embeddings\n",
    ")\n",
    "import pickle\n",
    "from sentence_transformers import SentenceTransformer"
   ]
  },
  {
   "cell_type": "code",
   "execution_count": 2,
   "id": "195db133",
   "metadata": {},
   "outputs": [
    {
     "name": "stdout",
     "output_type": "stream",
     "text": [
      "nested_splits erfolgreich geladen.\n"
     ]
    }
   ],
   "source": [
    "# Laden der Pickle datei \n",
    "\n",
    "with open(\"../data/nested_splits.pkl\", \"rb\") as f:\n",
    "    nested_splits = pickle.load(f)\n",
    "\n",
    "print(\"nested_splits erfolgreich geladen.\")"
   ]
  },
  {
   "cell_type": "markdown",
   "id": "ed7fe0cb",
   "metadata": {},
   "source": [
    "# Baseline Resulte \n",
    "In diesem Notebook werden die Outputs der Baseline-Modelle generiert und gespeichert. Diese Outputs werden später für die Evaluation der Modelle verwendet.\n"
   ]
  },
  {
   "cell_type": "code",
   "execution_count": 3,
   "id": "bec9f0a7",
   "metadata": {},
   "outputs": [],
   "source": [
    "# Split data\n",
    "split_data = split_nested_splits(nested_splits, test_size=0.2, val_size=0.1)"
   ]
  },
  {
   "cell_type": "code",
   "execution_count": null,
   "id": "9c6c72f6",
   "metadata": {},
   "outputs": [],
   "source": [
    "# Run evaluations\n",
    "tfidf_results = run_tfidf_cv(\n",
    "    split_data, \n",
    "    save_path=\"../MC2/results/tfidf\"\n",
    ")"
   ]
  },
  {
   "cell_type": "code",
   "execution_count": 4,
   "id": "f5b8cce1",
   "metadata": {},
   "outputs": [
    {
     "name": "stdout",
     "output_type": "stream",
     "text": [
      "\n",
      "Running Feature Extraction for size 0.1\n",
      "\n",
      "Running Feature Extraction for size 0.2\n",
      "\n",
      "Running Feature Extraction for size 0.4\n",
      "\n",
      "Running Feature Extraction for size 0.6\n",
      "\n",
      "Running Feature Extraction for size 0.8\n",
      "\n",
      "Running Feature Extraction for size 1.0\n"
     ]
    }
   ],
   "source": [
    "feature_results = run_feature_extraction(\n",
    "        split_data,\n",
    "        model_name=\"distilbert-base-uncased\",\n",
    "        save_path=\"../MC2/results/feature_extraction\"\n",
    ")"
   ]
  },
  {
   "cell_type": "code",
   "execution_count": null,
   "id": "2ca8e48b",
   "metadata": {},
   "outputs": [],
   "source": [
    "fine_tune_results = run_fine_tuning(\n",
    "    split_data,\n",
    "    model_name=\"distilbert-base-uncased\",\n",
    "    save_path=\"../MC2/results/fine_tuning\",\n",
    "    num_labels=2\n",
    ")\n"
   ]
  },
  {
   "cell_type": "markdown",
   "id": "7836d9eb",
   "metadata": {},
   "source": [
    "# Embedding Outputs\n",
    "In diesem Abschnitt werden die Embeddings der Baseline-Modelle generiert und gespeichert. Diese Embeddings werden zur weiteren Analyse verwendet.\n"
   ]
  },
  {
   "cell_type": "code",
   "execution_count": null,
   "id": "7beb3e4f",
   "metadata": {},
   "outputs": [],
   "source": [
    "# Modell und Daten\n",
    "embedding_model = SentenceTransformer(\"all-MiniLM-L6-v2\")\n",
    "\n",
    "generate_and_save_embeddings_from_splits(\n",
    "    splits=nested_splits,\n",
    "    embedding_model=embedding_model,\n",
    "    output_path=\"outputs/embeddings\", # Pfad für die Speicherung der Embeddings\n",
    "    prefix=\"train\" # Präfix für die Dateinamen\n",
    ")"
   ]
  },
  {
   "cell_type": "markdown",
   "id": "893d59fa",
   "metadata": {},
   "source": [
    "# Weak Labels Resultate\n",
    "In diesem Abschnitt werden die Ergebnisse der Weak Labels Modelle mit der Baseline generiert und gespeichert. Diese Ergebnisse werden später für die Evaluation der Modelle verwendet."
   ]
  },
  {
   "cell_type": "code",
   "execution_count": null,
   "id": "5e7a6d36",
   "metadata": {},
   "outputs": [],
   "source": [
    "# Modell und Daten\n",
    "embedding_model = SentenceTransformer(\"all-MiniLM-L6-v2\")\n",
    "\n",
    "generate_and_save_embeddings_from_splits(\n",
    "    splits=labeled_splits_zero_shot,\n",
    "    embedding_model=embedding_model,\n",
    "    output_path=\"outputs/embeddings\", # Pfad für die Speicherung der Embeddings\n",
    "    prefix=\"weak_labels\" # Präfix für die Dateinamen\n",
    ")"
   ]
  },
  {
   "cell_type": "code",
   "execution_count": null,
   "id": "ef0e1911",
   "metadata": {},
   "outputs": [],
   "source": [
    "# Modell und Daten\n",
    "embedding_model = SentenceTransformer(\"all-MiniLM-L6-v2\")\n",
    "\n",
    "generate_and_save_embeddings_from_splits(\n",
    "    splits=labeled_splits_knn,\n",
    "    embedding_model=embedding_model,\n",
    "    output_path=\"outputs/embeddings\", # Pfad für die Speicherung der Embeddings\n",
    "    prefix=\"weak_labels\" # Präfix für die Dateinamen\n",
    ")"
   ]
  },
  {
   "cell_type": "code",
   "execution_count": null,
   "id": "acfbd37d",
   "metadata": {},
   "outputs": [],
   "source": [
    "# Modell und Daten\n",
    "embedding_model = SentenceTransformer(\"all-MiniLM-L6-v2\")\n",
    "\n",
    "generate_and_save_embeddings_from_splits(\n",
    "    splits=labeled_splits_centroid,\n",
    "    embedding_model=embedding_model,\n",
    "    output_path=\"outputs/embeddings/centroid\", # Pfad für die Speicherung der Embeddings\n",
    "    prefix=\"weak_labels\" # Präfix für die Dateinamen\n",
    ")"
   ]
  }
 ],
 "metadata": {
  "kernelspec": {
   "display_name": ".venv",
   "language": "python",
   "name": "python3"
  },
  "language_info": {
   "codemirror_mode": {
    "name": "ipython",
    "version": 3
   },
   "file_extension": ".py",
   "mimetype": "text/x-python",
   "name": "python",
   "nbconvert_exporter": "python",
   "pygments_lexer": "ipython3",
   "version": "3.12.7"
  }
 },
 "nbformat": 4,
 "nbformat_minor": 5
}
